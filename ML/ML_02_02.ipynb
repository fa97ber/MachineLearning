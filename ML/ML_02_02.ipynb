{
 "cells": [
  {
   "cell_type": "code",
   "execution_count": 49,
   "metadata": {},
   "outputs": [
    {
     "data": {
      "text/plain": [
       "('1.16.4', '0.24.2')"
      ]
     },
     "execution_count": 49,
     "metadata": {},
     "output_type": "execute_result"
    }
   ],
   "source": [
    "import pandas as pd\n",
    "import numpy as np\n",
    "import tarfile\n",
    "from skimage import io\n",
    "%reload_ext version_information\n",
    "np.__version__, pd.__version__"
   ]
  },
  {
   "cell_type": "markdown",
   "metadata": {},
   "source": [
    "<h3>Einlesen der .tgz-Datei mithilfe von <I>tarfile</I></h3>"
   ]
  },
  {
   "cell_type": "code",
   "execution_count": 2,
   "metadata": {},
   "outputs": [],
   "source": [
    "tar = tarfile.open(\"lfw-funneled.tgz\")\n",
    "#tar.extractall() #gefährlich, entpackt direkt alles"
   ]
  },
  {
   "cell_type": "code",
   "execution_count": 3,
   "metadata": {},
   "outputs": [
    {
     "name": "stdout",
     "output_type": "stream",
     "text": [
      "lfw_funneled is 0 bytes in size and is a directory.\n",
      "lfw_funneled/George_HW_Bush is 0 bytes in size and is a directory.\n",
      "lfw_funneled/George_HW_Bush/George_HW_Bush_0001.jpg is 17691 bytes in size and is a regular file.\n",
      "lfw_funneled/George_HW_Bush/George_HW_Bush_0002.jpg is 14895 bytes in size and is a regular file.\n",
      "lfw_funneled/George_HW_Bush/George_HW_Bush_0003.jpg is 18220 bytes in size and is a regular file.\n",
      "lfw_funneled/George_HW_Bush/George_HW_Bush_0004.jpg is 17493 bytes in size and is a regular file.\n",
      "lfw_funneled/George_HW_Bush/George_HW_Bush_0005.jpg is 21517 bytes in size and is a regular file.\n",
      "lfw_funneled/George_HW_Bush/George_HW_Bush_0006.jpg is 17631 bytes in size and is a regular file.\n",
      "lfw_funneled/George_HW_Bush/George_HW_Bush_0007.jpg is 20535 bytes in size and is a regular file.\n",
      "lfw_funneled/George_HW_Bush/George_HW_Bush_0008.jpg is 17979 bytes in size and is a regular file.\n",
      "lfw_funneled/George_HW_Bush/George_HW_Bush_0009.jpg is 16926 bytes in size and is a regular file.\n",
      "lfw_funneled/George_HW_Bush/George_HW_Bush_0010.jpg is 20421 bytes in size and is a regular file.\n",
      "lfw_funneled/George_HW_Bush/George_HW_Bush_0011.jpg is 22314 bytes in size and is a regular file.\n",
      "lfw_funneled/George_HW_Bush/George_HW_Bush_0012.jpg is 21700 bytes in size and is a regular file.\n",
      "lfw_funneled/George_HW_Bush/George_HW_Bush_0013.jpg is 13788 bytes in size and is a regular file.\n",
      "lfw_funneled/Curtis_Strange is 0 bytes in size and is a directory.\n",
      "lfw_funneled/Curtis_Strange/Curtis_Strange_0001.jpg is 17864 bytes in size and is a regular file.\n",
      "lfw_funneled/Marc_Grossman is 0 bytes in size and is a directory.\n",
      "lfw_funneled/Marc_Grossman/Marc_Grossman_0001.jpg is 20112 bytes in size and is a regular file.\n",
      "lfw_funneled/Marc_Grossman/Marc_Grossman_0002.jpg is 18024 bytes in size and is a regular file.\n"
     ]
    }
   ],
   "source": [
    "i = 0\n",
    "for tarinfo in tar:\n",
    "    print(tarinfo.name, \"is\", tarinfo.size, \"bytes in size and is \", end=\"\")\n",
    "    if tarinfo.isreg():\n",
    "        print(\"a regular file.\")\n",
    "    elif tarinfo.isdir():\n",
    "        print(\"a directory.\")\n",
    "    else:\n",
    "        print(\"something else.\")\n",
    "        \n",
    "    i+=1\n",
    "    if i == 20:\n",
    "        break\n"
   ]
  },
  {
   "cell_type": "markdown",
   "metadata": {},
   "source": [
    "<h3>2a) Zwischenspeichern der Personen mit mindestens 70 Bildern</h3>"
   ]
  },
  {
   "cell_type": "code",
   "execution_count": 26,
   "metadata": {},
   "outputs": [
    {
     "name": "stdout",
     "output_type": "stream",
     "text": [
      "['lfw_funneled/Gerhard_Schroeder', 70]\n",
      "['lfw_funneled/Gerhard_Schroeder', 70, 'lfw_funneled/George_W_Bush', 70]\n",
      "['lfw_funneled/Gerhard_Schroeder', 70, 'lfw_funneled/George_W_Bush', 70, 'lfw_funneled/Donald_Rumsfeld', 70]\n",
      "['lfw_funneled/Gerhard_Schroeder', 70, 'lfw_funneled/George_W_Bush', 70, 'lfw_funneled/Donald_Rumsfeld', 70, 'lfw_funneled/Tony_Blair', 70]\n",
      "['lfw_funneled/Gerhard_Schroeder', 70, 'lfw_funneled/George_W_Bush', 70, 'lfw_funneled/Donald_Rumsfeld', 70, 'lfw_funneled/Tony_Blair', 70, 'lfw_funneled/Ariel_Sharon', 70]\n",
      "['lfw_funneled/Gerhard_Schroeder', 70, 'lfw_funneled/George_W_Bush', 70, 'lfw_funneled/Donald_Rumsfeld', 70, 'lfw_funneled/Tony_Blair', 70, 'lfw_funneled/Ariel_Sharon', 70, 'lfw_funneled/Colin_Powell', 70]\n",
      "['lfw_funneled/Gerhard_Schroeder', 70, 'lfw_funneled/George_W_Bush', 70, 'lfw_funneled/Donald_Rumsfeld', 70, 'lfw_funneled/Tony_Blair', 70, 'lfw_funneled/Ariel_Sharon', 70, 'lfw_funneled/Colin_Powell', 70, 'lfw_funneled/Hugo_Chavez', 70]\n"
     ]
    }
   ],
   "source": [
    "i = 0\n",
    "popular = []\n",
    "for tarinfo in tar:\n",
    "    if tarinfo.isdir():\n",
    "        person = tarinfo.name\n",
    "        i = 0\n",
    "    elif tarinfo.isreg() and tarinfo.name.endswith(\"jpg\"):\n",
    "        i += 1\n",
    "    if i >= 70:\n",
    "        if person not in popular:\n",
    "            popular.append(person)\n",
    "            print(person)\n",
    "        "
   ]
  },
  {
   "cell_type": "markdown",
   "metadata": {},
   "source": [
    "<h3>2b) Zwischenspeichern der Bilder der am häufigsten abgebildeten Personen</h3>\n",
    "\n",
    "Je ein Bild wird für die Klassifikation beiseite gelegt."
   ]
  },
  {
   "cell_type": "markdown",
   "metadata": {},
   "source": [
    "Zuerst Zwischenspeichern der Namen der Bilddateien, nach Personen getrennt, in einer Liste von Listen"
   ]
  },
  {
   "cell_type": "code",
   "execution_count": 53,
   "metadata": {},
   "outputs": [],
   "source": [
    "popular_b = False\n",
    "picturenames = []\n",
    "pct = []\n",
    "for tarinfo in tar:\n",
    "    if tarinfo.isdir() and tarinfo.name in popular:\n",
    "        popular_b = True\n",
    "    elif tarinfo.isdir() and tarinfo.name not in popular:\n",
    "        # Falls ein eine viel abgebildete Person voranging ist popular_b true\n",
    "        # In diesem Fall wird pct gespeichert\n",
    "        if popular_b:\n",
    "            picturenames.append(pct)\n",
    "            pct = []\n",
    "        popular_b = False\n",
    "\n",
    "    if popular_b == True and tarinfo.name.endswith(\"jpg\"):\n",
    "        pct.append(tarinfo.name)\n",
    "# Falls die letzte Person viel abgebildet wurde wird zur Sicherheit pct gespeichert\n",
    "if popular_b:\n",
    "    picturenames.append(pct)\n",
    "    pct = []"
   ]
  },
  {
   "cell_type": "code",
   "execution_count": 54,
   "metadata": {},
   "outputs": [
    {
     "name": "stdout",
     "output_type": "stream",
     "text": [
      "109\n",
      "530\n",
      "121\n",
      "144\n",
      "77\n",
      "236\n",
      "71\n"
     ]
    }
   ],
   "source": [
    "for plist in picturenames:\n",
    "    print(len(plist))"
   ]
  },
  {
   "cell_type": "code",
   "execution_count": 52,
   "metadata": {},
   "outputs": [
    {
     "data": {
      "text/plain": [
       "(250, 250)"
      ]
     },
     "execution_count": 52,
     "metadata": {},
     "output_type": "execute_result"
    }
   ],
   "source": [
    "np.shape(io.imread(\"lfw_funneled/George_HW_Bush/George_HW_Bush_0001.jpg\", as_gray=True))"
   ]
  },
  {
   "cell_type": "markdown",
   "metadata": {},
   "source": [
    "Ausschneiden eines einheitlichen zentralen Ausschnittes, der nur Augen und\n",
    "Mund enthält. Skalierung der Bilder auf die Größe 32 × 32 und Planieren der Matrizen zu Arrays."
   ]
  },
  {
   "cell_type": "code",
   "execution_count": 124,
   "metadata": {},
   "outputs": [],
   "source": [
    "pictures = []\n",
    "class_pictures = []\n",
    "\n",
    "for plist in picturenames:\n",
    "    pct = []\n",
    "    for picturename in plist:\n",
    "        # Zentralen Ausschnitt mit Augen und Mund auswählen, Parameter durch Probieren erzeugt\n",
    "        picture = io.imread(picturename, as_gray=True)[75:175, 75:175]\n",
    "        picture = np.resize(picture, (32,32))  #Ergibt Müll, bzw. Streifen\n",
    "        picture = picture.flatten()\n",
    "        # Beiseitelegen des jeweils letzten Bildes\n",
    "        if picturename == plist[-1]:\n",
    "            class_pictures.append(picture)\n",
    "        else:\n",
    "            pct.append(picture)\n",
    "    pictures.append(pct)"
   ]
  },
  {
   "cell_type": "code",
   "execution_count": 120,
   "metadata": {},
   "outputs": [
    {
     "data": {
      "text/plain": [
       "(1024,)"
      ]
     },
     "execution_count": 120,
     "metadata": {},
     "output_type": "execute_result"
    }
   ],
   "source": [
    "np.shape(class_pictures[0])"
   ]
  },
  {
   "cell_type": "code",
   "execution_count": 163,
   "metadata": {},
   "outputs": [],
   "source": [
    "#io.imshow(class_pictures[0])"
   ]
  },
  {
   "cell_type": "code",
   "execution_count": 128,
   "metadata": {},
   "outputs": [
    {
     "data": {
      "text/plain": [
       "[108, 529, 120, 143, 76, 235, 70]"
      ]
     },
     "execution_count": 128,
     "metadata": {},
     "output_type": "execute_result"
    }
   ],
   "source": [
    "all_cnt = []\n",
    "for plist in pictures:\n",
    "    all_cnt.append(len(plist))\n",
    "all_cnt"
   ]
  },
  {
   "cell_type": "code",
   "execution_count": 129,
   "metadata": {},
   "outputs": [
    {
     "data": {
      "text/plain": [
       "1281"
      ]
     },
     "execution_count": 129,
     "metadata": {},
     "output_type": "execute_result"
    }
   ],
   "source": [
    "np.sum(all_cnt)"
   ]
  },
  {
   "cell_type": "markdown",
   "metadata": {},
   "source": [
    "Aneinanderketten der Bildarrays zu einer N x D Designmatrix."
   ]
  },
  {
   "cell_type": "code",
   "execution_count": 164,
   "metadata": {},
   "outputs": [],
   "source": [
    "design = np.zeros((2,np.shape(class_pictures[0])[0])) #Hilfsmatrix\n",
    "for plist in pictures:\n",
    "    #for picture in plist:\n",
    "    design = np.concatenate((design, plist), axis=0)\n",
    "design = design[2:,:]"
   ]
  },
  {
   "cell_type": "code",
   "execution_count": 165,
   "metadata": {},
   "outputs": [
    {
     "data": {
      "text/plain": [
       "(1281, 1024)"
      ]
     },
     "execution_count": 165,
     "metadata": {},
     "output_type": "execute_result"
    }
   ],
   "source": [
    "np.shape(design)"
   ]
  },
  {
   "cell_type": "code",
   "execution_count": 166,
   "metadata": {},
   "outputs": [
    {
     "data": {
      "text/plain": [
       "array([[0.18263922, 0.10021882, 0.09008314, ..., 0.57335412, 0.58511882,\n",
       "        0.59072196],\n",
       "       [0.34386392, 0.33680941, 0.29978118, ..., 0.7418898 , 0.74075098,\n",
       "        0.74859412],\n",
       "       [0.11873333, 0.12993255, 0.14756824, ..., 0.37886196, 0.3867051 ,\n",
       "        0.38556627],\n",
       "       ...,\n",
       "       [0.00784314, 0.00784314, 0.01176471, ..., 0.67284745, 0.69245529,\n",
       "        0.70029843],\n",
       "       [0.09928314, 0.11496941, 0.13065569, ..., 0.5039502 , 0.50787176,\n",
       "        0.5157149 ],\n",
       "       [0.09854431, 0.10190039, 0.10216824, ..., 0.48847137, 0.49239294,\n",
       "        0.49631451]])"
      ]
     },
     "execution_count": 166,
     "metadata": {},
     "output_type": "execute_result"
    }
   ],
   "source": [
    "design"
   ]
  },
  {
   "cell_type": "code",
   "execution_count": null,
   "metadata": {},
   "outputs": [],
   "source": []
  },
  {
   "cell_type": "code",
   "execution_count": 5,
   "metadata": {},
   "outputs": [],
   "source": [
    "tar.close()"
   ]
  },
  {
   "cell_type": "code",
   "execution_count": 7,
   "metadata": {},
   "outputs": [
    {
     "data": {
      "application/json": {
       "Software versions": [
        {
         "module": "Python",
         "version": "3.7.3 64bit [MSC v.1915 64 bit (AMD64)]"
        },
        {
         "module": "IPython",
         "version": "7.6.1"
        },
        {
         "module": "OS",
         "version": "Windows 10 10.0.18362 SP0"
        },
        {
         "module": "numpy",
         "version": "1.16.4"
        },
        {
         "module": "pandas",
         "version": "0.24.2"
        }
       ]
      },
      "text/html": [
       "<table><tr><th>Software</th><th>Version</th></tr><tr><td>Python</td><td>3.7.3 64bit [MSC v.1915 64 bit (AMD64)]</td></tr><tr><td>IPython</td><td>7.6.1</td></tr><tr><td>OS</td><td>Windows 10 10.0.18362 SP0</td></tr><tr><td>numpy</td><td>1.16.4</td></tr><tr><td>pandas</td><td>0.24.2</td></tr><tr><td colspan='2'>Mon Nov 04 08:33:51 2019 Mitteleuropäische Zeit</td></tr></table>"
      ],
      "text/latex": [
       "\\begin{tabular}{|l|l|}\\hline\n",
       "{\\bf Software} & {\\bf Version} \\\\ \\hline\\hline\n",
       "Python & 3.7.3 64bit [MSC v.1915 64 bit (AMD64)] \\\\ \\hline\n",
       "IPython & 7.6.1 \\\\ \\hline\n",
       "OS & Windows 10 10.0.18362 SP0 \\\\ \\hline\n",
       "numpy & 1.16.4 \\\\ \\hline\n",
       "pandas & 0.24.2 \\\\ \\hline\n",
       "\\hline \\multicolumn{2}{|l|}{Mon Nov 04 08:33:51 2019 Mitteleuropäische Zeit} \\\\ \\hline\n",
       "\\end{tabular}\n"
      ],
      "text/plain": [
       "Software versions\n",
       "Python 3.7.3 64bit [MSC v.1915 64 bit (AMD64)]\n",
       "IPython 7.6.1\n",
       "OS Windows 10 10.0.18362 SP0\n",
       "numpy 1.16.4\n",
       "pandas 0.24.2\n",
       "Mon Nov 04 08:33:51 2019 Mitteleuropäische Zeit"
      ]
     },
     "execution_count": 7,
     "metadata": {},
     "output_type": "execute_result"
    }
   ],
   "source": [
    "%version_information numpy, pandas"
   ]
  }
 ],
 "metadata": {
  "kernelspec": {
   "display_name": "Python 3",
   "language": "python",
   "name": "python3"
  },
  "language_info": {
   "codemirror_mode": {
    "name": "ipython",
    "version": 3
   },
   "file_extension": ".py",
   "mimetype": "text/x-python",
   "name": "python",
   "nbconvert_exporter": "python",
   "pygments_lexer": "ipython3",
   "version": "3.7.3"
  }
 },
 "nbformat": 4,
 "nbformat_minor": 2
}
