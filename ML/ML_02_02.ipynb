{
 "cells": [
  {
   "cell_type": "code",
   "execution_count": 44,
   "metadata": {},
   "outputs": [
    {
     "data": {
      "text/plain": [
       "('1.16.4', '0.24.2')"
      ]
     },
     "execution_count": 44,
     "metadata": {},
     "output_type": "execute_result"
    }
   ],
   "source": [
    "import pandas as pd\n",
    "import numpy as np\n",
    "import tarfile\n",
    "from scipy.spatial import distance\n",
    "from skimage import io\n",
    "from skimage.transform import rescale\n",
    "import ml_02_pca\n",
    "%reload_ext version_information\n",
    "np.__version__, pd.__version__"
   ]
  },
  {
   "cell_type": "markdown",
   "metadata": {},
   "source": [
    "<h3>Einlesen der .tgz-Datei mithilfe von <I>tarfile</I></h3>"
   ]
  },
  {
   "cell_type": "code",
   "execution_count": 2,
   "metadata": {},
   "outputs": [],
   "source": [
    "tar = tarfile.open(\"lfw-funneled.tgz\")\n",
    "#tar.extractall() #gefährlich, entpackt direkt alles"
   ]
  },
  {
   "cell_type": "code",
   "execution_count": 3,
   "metadata": {},
   "outputs": [
    {
     "name": "stdout",
     "output_type": "stream",
     "text": [
      "lfw_funneled is 0 bytes in size and is a directory.\n",
      "lfw_funneled/George_HW_Bush is 0 bytes in size and is a directory.\n",
      "lfw_funneled/George_HW_Bush/George_HW_Bush_0001.jpg is 17691 bytes in size and is a regular file.\n",
      "lfw_funneled/George_HW_Bush/George_HW_Bush_0002.jpg is 14895 bytes in size and is a regular file.\n",
      "lfw_funneled/George_HW_Bush/George_HW_Bush_0003.jpg is 18220 bytes in size and is a regular file.\n",
      "lfw_funneled/George_HW_Bush/George_HW_Bush_0004.jpg is 17493 bytes in size and is a regular file.\n",
      "lfw_funneled/George_HW_Bush/George_HW_Bush_0005.jpg is 21517 bytes in size and is a regular file.\n",
      "lfw_funneled/George_HW_Bush/George_HW_Bush_0006.jpg is 17631 bytes in size and is a regular file.\n",
      "lfw_funneled/George_HW_Bush/George_HW_Bush_0007.jpg is 20535 bytes in size and is a regular file.\n",
      "lfw_funneled/George_HW_Bush/George_HW_Bush_0008.jpg is 17979 bytes in size and is a regular file.\n",
      "lfw_funneled/George_HW_Bush/George_HW_Bush_0009.jpg is 16926 bytes in size and is a regular file.\n",
      "lfw_funneled/George_HW_Bush/George_HW_Bush_0010.jpg is 20421 bytes in size and is a regular file.\n",
      "lfw_funneled/George_HW_Bush/George_HW_Bush_0011.jpg is 22314 bytes in size and is a regular file.\n",
      "lfw_funneled/George_HW_Bush/George_HW_Bush_0012.jpg is 21700 bytes in size and is a regular file.\n",
      "lfw_funneled/George_HW_Bush/George_HW_Bush_0013.jpg is 13788 bytes in size and is a regular file.\n",
      "lfw_funneled/Curtis_Strange is 0 bytes in size and is a directory.\n",
      "lfw_funneled/Curtis_Strange/Curtis_Strange_0001.jpg is 17864 bytes in size and is a regular file.\n",
      "lfw_funneled/Marc_Grossman is 0 bytes in size and is a directory.\n",
      "lfw_funneled/Marc_Grossman/Marc_Grossman_0001.jpg is 20112 bytes in size and is a regular file.\n",
      "lfw_funneled/Marc_Grossman/Marc_Grossman_0002.jpg is 18024 bytes in size and is a regular file.\n"
     ]
    }
   ],
   "source": [
    "i = 0\n",
    "for tarinfo in tar:\n",
    "    print(tarinfo.name, \"is\", tarinfo.size, \"bytes in size and is \", end=\"\")\n",
    "    if tarinfo.isreg():\n",
    "        print(\"a regular file.\")\n",
    "    elif tarinfo.isdir():\n",
    "        print(\"a directory.\")\n",
    "    else:\n",
    "        print(\"something else.\")\n",
    "        \n",
    "    i+=1\n",
    "    if i == 20:\n",
    "        break\n"
   ]
  },
  {
   "cell_type": "markdown",
   "metadata": {},
   "source": [
    "<h3>2a) Zwischenspeichern der Personen mit mindestens 70 Bildern</h3>"
   ]
  },
  {
   "cell_type": "code",
   "execution_count": 4,
   "metadata": {},
   "outputs": [
    {
     "name": "stdout",
     "output_type": "stream",
     "text": [
      "lfw_funneled/Gerhard_Schroeder\n",
      "lfw_funneled/George_W_Bush\n",
      "lfw_funneled/Donald_Rumsfeld\n",
      "lfw_funneled/Tony_Blair\n",
      "lfw_funneled/Ariel_Sharon\n",
      "lfw_funneled/Colin_Powell\n",
      "lfw_funneled/Hugo_Chavez\n"
     ]
    }
   ],
   "source": [
    "i = 0\n",
    "popular = []\n",
    "for tarinfo in tar:\n",
    "    if tarinfo.isdir():\n",
    "        person = tarinfo.name\n",
    "        i = 0\n",
    "    elif tarinfo.isreg() and tarinfo.name.endswith(\"jpg\"):\n",
    "        i += 1\n",
    "    if i >= 70:\n",
    "        if person not in popular:\n",
    "            popular.append(person)\n",
    "            print(person)\n",
    "        "
   ]
  },
  {
   "cell_type": "markdown",
   "metadata": {},
   "source": [
    "<h3>2b) Zwischenspeichern der Bilder der am häufigsten abgebildeten Personen</h3>\n",
    "\n",
    "Je ein Bild wird für die Klassifikation beiseite gelegt."
   ]
  },
  {
   "cell_type": "markdown",
   "metadata": {},
   "source": [
    "Zuerst Zwischenspeichern der Namen der Bilddateien, nach Personen getrennt, in einer Liste von Listen"
   ]
  },
  {
   "cell_type": "code",
   "execution_count": 5,
   "metadata": {},
   "outputs": [],
   "source": [
    "popular_b = False\n",
    "picturenames = []\n",
    "pct = []\n",
    "for tarinfo in tar:\n",
    "    if tarinfo.isdir() and tarinfo.name in popular:\n",
    "        popular_b = True\n",
    "    elif tarinfo.isdir() and tarinfo.name not in popular:\n",
    "        # Falls ein eine viel abgebildete Person voranging ist popular_b true\n",
    "        # In diesem Fall wird pct gespeichert\n",
    "        if popular_b:\n",
    "            picturenames.append(pct)\n",
    "            pct = []\n",
    "        popular_b = False\n",
    "\n",
    "    if popular_b == True and tarinfo.name.endswith(\"jpg\"):\n",
    "        pct.append(tarinfo.name)\n",
    "# Falls die letzte Person viel abgebildet wurde wird zur Sicherheit pct gespeichert\n",
    "if popular_b:\n",
    "    picturenames.append(pct)\n",
    "    pct = []"
   ]
  },
  {
   "cell_type": "code",
   "execution_count": 6,
   "metadata": {},
   "outputs": [
    {
     "name": "stdout",
     "output_type": "stream",
     "text": [
      "109\n",
      "530\n",
      "121\n",
      "144\n",
      "77\n",
      "236\n",
      "71\n"
     ]
    }
   ],
   "source": [
    "for plist in picturenames:\n",
    "    print(len(plist))"
   ]
  },
  {
   "cell_type": "code",
   "execution_count": 7,
   "metadata": {},
   "outputs": [
    {
     "data": {
      "text/plain": [
       "(250, 250)"
      ]
     },
     "execution_count": 7,
     "metadata": {},
     "output_type": "execute_result"
    }
   ],
   "source": [
    "np.shape(io.imread(\"lfw_funneled/George_HW_Bush/George_HW_Bush_0001.jpg\", as_gray=True))"
   ]
  },
  {
   "cell_type": "markdown",
   "metadata": {},
   "source": [
    "Ausschneiden eines einheitlichen zentralen Ausschnittes, der nur Augen und\n",
    "Mund enthält. Skalierung der Bilder auf die Größe 32 × 32 und Planieren der Matrizen zu Arrays."
   ]
  },
  {
   "cell_type": "code",
   "execution_count": 8,
   "metadata": {},
   "outputs": [],
   "source": [
    "pictures = []\n",
    "class_pictures = []\n",
    "\n",
    "for plist in picturenames:\n",
    "    pct = []\n",
    "    for picturename in plist:\n",
    "        # Zentralen Ausschnitt mit Augen und Mund auswählen, Parameter durch Probieren erzeugt\n",
    "        picture = io.imread(picturename, as_gray=True)[75:175, 75:175]\n",
    "        picture = rescale(picture, 0.32, anti_aliasing=False, multichannel=False)\n",
    "        picture = picture.flatten()\n",
    "        # Beiseitelegen des jeweils letzten Bildes\n",
    "        if picturename == plist[-1]:\n",
    "            class_pictures.append(picture)\n",
    "        else:\n",
    "            pct.append(picture)\n",
    "    pictures.append(pct)"
   ]
  },
  {
   "cell_type": "code",
   "execution_count": 9,
   "metadata": {},
   "outputs": [
    {
     "data": {
      "text/plain": [
       "(1024,)"
      ]
     },
     "execution_count": 9,
     "metadata": {},
     "output_type": "execute_result"
    }
   ],
   "source": [
    "np.shape(class_pictures[0])"
   ]
  },
  {
   "cell_type": "code",
   "execution_count": 10,
   "metadata": {},
   "outputs": [],
   "source": [
    "#io.imshow(class_pictures[0])"
   ]
  },
  {
   "cell_type": "code",
   "execution_count": 11,
   "metadata": {},
   "outputs": [
    {
     "data": {
      "text/plain": [
       "[108, 529, 120, 143, 76, 235, 70]"
      ]
     },
     "execution_count": 11,
     "metadata": {},
     "output_type": "execute_result"
    }
   ],
   "source": [
    "all_cnt = []\n",
    "for plist in pictures:\n",
    "    all_cnt.append(len(plist))\n",
    "all_cnt"
   ]
  },
  {
   "cell_type": "code",
   "execution_count": 12,
   "metadata": {},
   "outputs": [
    {
     "data": {
      "text/plain": [
       "1281"
      ]
     },
     "execution_count": 12,
     "metadata": {},
     "output_type": "execute_result"
    }
   ],
   "source": [
    "np.sum(all_cnt)"
   ]
  },
  {
   "cell_type": "markdown",
   "metadata": {},
   "source": [
    "<h3>2c) Anwenden der Hauptkomponentenanalyse aus Aufgabe 2_1 auf die Designmatrix\n",
    "(Alle Trainingsbilder für alle Personen wurden als Zeilen in eine gemeinsame\n",
    "Designmatrix kopiert).</h3>"
   ]
  },
  {
   "cell_type": "markdown",
   "metadata": {},
   "source": [
    "Aneinanderketten der Bildarrays zu einer N x D Designmatrix."
   ]
  },
  {
   "cell_type": "code",
   "execution_count": 13,
   "metadata": {},
   "outputs": [],
   "source": [
    "design = np.zeros((2,np.shape(class_pictures[0])[0])) #Hilfsmatrix\n",
    "for plist in pictures:\n",
    "    #for picture in plist:\n",
    "    design = np.concatenate((design, plist), axis=0)\n",
    "design = design[2:,:]"
   ]
  },
  {
   "cell_type": "code",
   "execution_count": 14,
   "metadata": {},
   "outputs": [
    {
     "data": {
      "text/plain": [
       "(1281, 1024)"
      ]
     },
     "execution_count": 14,
     "metadata": {},
     "output_type": "execute_result"
    }
   ],
   "source": [
    "np.shape(design)"
   ]
  },
  {
   "cell_type": "code",
   "execution_count": 15,
   "metadata": {},
   "outputs": [
    {
     "data": {
      "text/plain": [
       "array([[0.07255804, 0.14642254, 0.69799381, ..., 0.67256275, 0.66216998,\n",
       "        0.7716511 ],\n",
       "       [0.32706059, 0.264101  , 0.23566874, ..., 0.23916836, 0.21291464,\n",
       "        0.24733636],\n",
       "       [0.12790377, 0.20839775, 0.27509343, ..., 0.11599061, 0.12849176,\n",
       "        0.14394652],\n",
       "       ...,\n",
       "       [0.02033686, 0.03258099, 0.05658798, ..., 0.52454691, 0.37260891,\n",
       "        0.5274388 ],\n",
       "       [0.12844077, 0.20023825, 0.23236636, ..., 0.25732409, 0.25856665,\n",
       "        0.25450001],\n",
       "       [0.1066688 , 0.14418403, 0.29712532, ..., 0.27716302, 0.19969916,\n",
       "        0.17760734]])"
      ]
     },
     "execution_count": 15,
     "metadata": {},
     "output_type": "execute_result"
    }
   ],
   "source": [
    "design"
   ]
  },
  {
   "cell_type": "markdown",
   "metadata": {},
   "source": [
    "Umwandeln der Matrix in ein Pandas Dataframe"
   ]
  },
  {
   "cell_type": "code",
   "execution_count": 16,
   "metadata": {},
   "outputs": [],
   "source": [
    "df = pd.DataFrame.from_records(design)"
   ]
  },
  {
   "cell_type": "markdown",
   "metadata": {},
   "source": [
    "Hauptkomponentenanalyse mit dem Modul aus Aufgabe 1"
   ]
  },
  {
   "cell_type": "code",
   "execution_count": 18,
   "metadata": {},
   "outputs": [],
   "source": [
    "pc, ai, quadd, means = ml_02_pca.pca(df, 150)"
   ]
  },
  {
   "cell_type": "code",
   "execution_count": 19,
   "metadata": {},
   "outputs": [
    {
     "data": {
      "text/plain": [
       "(150, 1024)"
      ]
     },
     "execution_count": 19,
     "metadata": {},
     "output_type": "execute_result"
    }
   ],
   "source": [
    "np.shape(pc)"
   ]
  },
  {
   "cell_type": "markdown",
   "metadata": {},
   "source": [
    "Darstellen der ersten 12 berechneten Hauptkomponenten als Bilder"
   ]
  },
  {
   "cell_type": "code",
   "execution_count": 20,
   "metadata": {},
   "outputs": [],
   "source": [
    "eg = []\n",
    "i = 0\n",
    "for g in pc:\n",
    "    eg.append(np.resize(g, (32,32)))\n",
    "    i += 1\n",
    "    if i == 12:\n",
    "        break"
   ]
  },
  {
   "cell_type": "code",
   "execution_count": 22,
   "metadata": {},
   "outputs": [
    {
     "data": {
      "image/png": "[encoded data removed]",
      "text/plain": [
       "<Figure size 432x288 with 12 Axes>"
      ]
     },
     "metadata": {
      "needs_background": "light"
     },
     "output_type": "display_data"
    }
   ],
   "source": [
    "test = io.imshow_collection(eg)"
   ]
  },
  {
   "cell_type": "markdown",
   "metadata": {},
   "source": [
    "Darstellen der ersten 150 Eigenwerte in einem Diagramm"
   ]
  },
  {
   "cell_type": "code",
   "execution_count": null,
   "metadata": {},
   "outputs": [],
   "source": [
    "#TODO: ???"
   ]
  },
  {
   "cell_type": "markdown",
   "metadata": {},
   "source": [
    "Interpretation des Ergebnisses"
   ]
  },
  {
   "cell_type": "code",
   "execution_count": null,
   "metadata": {},
   "outputs": [],
   "source": []
  },
  {
   "cell_type": "markdown",
   "metadata": {},
   "source": [
    "<h3> 2d) Von den Testbildern wird nun ebenfalls der Mittelwert der Trainingsdaten abgezogen (s.\n",
    "Schritt 1 im Algorithmus). \n",
    "\n",
    "Projektion jedes der Trainings- und Testbilder auf die ersten 7 Eigengesichter. \n",
    "Die Gesichtserkennung durch den euklidischen Abstand des Testbildes\n",
    "in diesem 7-dimensionalen Merkmalsraum zu allen Trainingsbildern. Die Person\n",
    "des am nächsten liegenden Trainingsbildes (d.h. mit dem minimalen euklidischen Abstand) ist\n",
    "dann (vermutlich) auch die korrekte Person für das Testbild (Nächster-Nachbar-Klassifikator).\n",
    "</h3>\n"
   ]
  },
  {
   "cell_type": "code",
   "execution_count": 23,
   "metadata": {},
   "outputs": [
    {
     "data": {
      "text/plain": [
       "['lfw_funneled/Gerhard_Schroeder',\n",
       " 'lfw_funneled/George_W_Bush',\n",
       " 'lfw_funneled/Donald_Rumsfeld',\n",
       " 'lfw_funneled/Tony_Blair',\n",
       " 'lfw_funneled/Ariel_Sharon',\n",
       " 'lfw_funneled/Colin_Powell',\n",
       " 'lfw_funneled/Hugo_Chavez']"
      ]
     },
     "execution_count": 23,
     "metadata": {},
     "output_type": "execute_result"
    }
   ],
   "source": [
    "popular"
   ]
  },
  {
   "cell_type": "code",
   "execution_count": 36,
   "metadata": {},
   "outputs": [],
   "source": [
    "before = []\n",
    "after = []\n",
    "for c_pct in class_pictures:\n",
    "    before.append(np.resize(c_pct, (32,32)))\n",
    "    c_pct = c_pct - means\n",
    "    after.append(np.resize(c_pct, (32,32)))"
   ]
  },
  {
   "cell_type": "code",
   "execution_count": 37,
   "metadata": {},
   "outputs": [
    {
     "data": {
      "image/png": "[encoded data removed]",
      "text/plain": [
       "<Figure size 432x288 with 9 Axes>"
      ]
     },
     "metadata": {
      "needs_background": "light"
     },
     "output_type": "display_data"
    }
   ],
   "source": [
    "test = io.imshow_collection(before)"
   ]
  },
  {
   "cell_type": "code",
   "execution_count": 38,
   "metadata": {},
   "outputs": [
    {
     "data": {
      "image/png": "[encoded data removed]",
      "text/plain": [
       "<Figure size 432x288 with 9 Axes>"
      ]
     },
     "metadata": {
      "needs_background": "light"
     },
     "output_type": "display_data"
    }
   ],
   "source": [
    "test = io.imshow_collection(after)"
   ]
  },
  {
   "cell_type": "code",
   "execution_count": 56,
   "metadata": {},
   "outputs": [
    {
     "data": {
      "text/plain": [
       "[[16.38650378513556,\n",
       "  17.39593158543281,\n",
       "  17.47656422167317,\n",
       "  17.255444033851628,\n",
       "  17.39971843669607,\n",
       "  17.296129871480602,\n",
       "  17.441298817064453],\n",
       " [20.76412788895604,\n",
       "  21.565531943947736,\n",
       "  21.825225386166643,\n",
       "  21.66932739877075,\n",
       "  21.710091698737642,\n",
       "  21.662616240200823,\n",
       "  21.656196094049054],\n",
       " [18.891855548003353,\n",
       "  20.027703360484406,\n",
       "  19.891979348991313,\n",
       "  19.873856701061232,\n",
       "  19.876270372960942,\n",
       "  19.839235548580714,\n",
       "  19.828894556371086],\n",
       " [17.57406445787115,\n",
       "  18.442289049663763,\n",
       "  18.63076334330757,\n",
       "  18.47304879453772,\n",
       "  18.586700660530305,\n",
       "  18.474103934352048,\n",
       "  18.557830673202208],\n",
       " [20.45700866379241,\n",
       "  21.477520604412376,\n",
       "  21.534667312864414,\n",
       "  21.374647625490088,\n",
       "  21.445888009432377,\n",
       "  21.41277794937658,\n",
       "  21.39217782692595],\n",
       " [14.473052173000596,\n",
       "  15.411481839588088,\n",
       "  15.580788920607002,\n",
       "  15.416792093775241,\n",
       "  15.51354959659236,\n",
       "  15.416671365020193,\n",
       "  15.493439702631735],\n",
       " [16.340630395216113,\n",
       "  17.23627338832955,\n",
       "  17.343650230486453,\n",
       "  17.241692361789276,\n",
       "  17.39416976552311,\n",
       "  17.25626326764223,\n",
       "  17.34420566030914]]"
      ]
     },
     "execution_count": 56,
     "metadata": {},
     "output_type": "execute_result"
    }
   ],
   "source": [
    "distances = []\n",
    "for c_pct in after:\n",
    "    dst = []\n",
    "    for g in eg[0:7]:\n",
    "        d = distance.euclidean(c_pct.flatten(), g.flatten())\n",
    "        dst.append(d)\n",
    "    distances.append(dst)\n",
    "#dst = distance.euclidean(eg[0], after[0])\n",
    "distances"
   ]
  },
  {
   "cell_type": "code",
   "execution_count": 55,
   "metadata": {},
   "outputs": [
    {
     "name": "stdout",
     "output_type": "stream",
     "text": [
      "0\n",
      "0\n",
      "0\n",
      "0\n",
      "0\n",
      "0\n",
      "0\n"
     ]
    }
   ],
   "source": [
    "for d in distances:\n",
    "    print(d.index(min(d)))"
   ]
  },
  {
   "cell_type": "markdown",
   "metadata": {},
   "source": [
    "Welche Bilder werden korrekt klassifiziert, welche Verwechslungen gibt es? "
   ]
  },
  {
   "cell_type": "markdown",
   "metadata": {},
   "source": [
    "Nur das erste wird (vermutlich) korrekt klassifiziert."
   ]
  },
  {
   "cell_type": "code",
   "execution_count": 57,
   "metadata": {},
   "outputs": [],
   "source": [
    "tar.close()"
   ]
  },
  {
   "cell_type": "code",
   "execution_count": 58,
   "metadata": {},
   "outputs": [
    {
     "data": {
      "application/json": {
       "Software versions": [
        {
         "module": "Python",
         "version": "3.7.3 64bit [MSC v.1915 64 bit (AMD64)]"
        },
        {
         "module": "IPython",
         "version": "7.6.1"
        },
        {
         "module": "OS",
         "version": "Windows 10 10.0.18362 SP0"
        },
        {
         "module": "numpy",
         "version": "1.16.4"
        },
        {
         "module": "pandas",
         "version": "0.24.2"
        },
        {
         "module": "skimage",
         "version": "0.15.0"
        },
        {
         "module": "scipy",
         "version": "1.2.1"
        }
       ]
      },
      "text/html": [
       "<table><tr><th>Software</th><th>Version</th></tr><tr><td>Python</td><td>3.7.3 64bit [MSC v.1915 64 bit (AMD64)]</td></tr><tr><td>IPython</td><td>7.6.1</td></tr><tr><td>OS</td><td>Windows 10 10.0.18362 SP0</td></tr><tr><td>numpy</td><td>1.16.4</td></tr><tr><td>pandas</td><td>0.24.2</td></tr><tr><td>skimage</td><td>0.15.0</td></tr><tr><td>scipy</td><td>1.2.1</td></tr><tr><td colspan='2'>Tue Nov 05 10:54:48 2019 Mitteleuropäische Zeit</td></tr></table>"
      ],
      "text/latex": [
       "\\begin{tabular}{|l|l|}\\hline\n",
       "{\\bf Software} & {\\bf Version} \\\\ \\hline\\hline\n",
       "Python & 3.7.3 64bit [MSC v.1915 64 bit (AMD64)] \\\\ \\hline\n",
       "IPython & 7.6.1 \\\\ \\hline\n",
       "OS & Windows 10 10.0.18362 SP0 \\\\ \\hline\n",
       "numpy & 1.16.4 \\\\ \\hline\n",
       "pandas & 0.24.2 \\\\ \\hline\n",
       "skimage & 0.15.0 \\\\ \\hline\n",
       "scipy & 1.2.1 \\\\ \\hline\n",
       "\\hline \\multicolumn{2}{|l|}{Tue Nov 05 10:54:48 2019 Mitteleuropäische Zeit} \\\\ \\hline\n",
       "\\end{tabular}\n"
      ],
      "text/plain": [
       "Software versions\n",
       "Python 3.7.3 64bit [MSC v.1915 64 bit (AMD64)]\n",
       "IPython 7.6.1\n",
       "OS Windows 10 10.0.18362 SP0\n",
       "numpy 1.16.4\n",
       "pandas 0.24.2\n",
       "skimage 0.15.0\n",
       "scipy 1.2.1\n",
       "Tue Nov 05 10:54:48 2019 Mitteleuropäische Zeit"
      ]
     },
     "execution_count": 58,
     "metadata": {},
     "output_type": "execute_result"
    }
   ],
   "source": [
    "%version_information numpy, pandas, skimage, scipy"
   ]
  }
 ],
 "metadata": {
  "kernelspec": {
   "display_name": "Python 3",
   "language": "python",
   "name": "python3"
  },
  "language_info": {
   "codemirror_mode": {
    "name": "ipython",
    "version": 3
   },
   "file_extension": ".py",
   "mimetype": "text/x-python",
   "name": "python",
   "nbconvert_exporter": "python",
   "pygments_lexer": "ipython3",
   "version": "3.7.3"
  }
 },
 "nbformat": 4,
 "nbformat_minor": 2
}
