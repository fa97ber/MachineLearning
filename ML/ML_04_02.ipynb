{
 "cells": [
  {
   "cell_type": "code",
   "execution_count": 1,
   "metadata": {},
   "outputs": [
    {
     "data": {
      "text/plain": [
       "'1.16.4'"
      ]
     },
     "execution_count": 1,
     "metadata": {},
     "output_type": "execute_result"
    }
   ],
   "source": [
    "import numpy as np\n",
    "import matplotlib.pyplot as plt\n",
    "from sklearn import datasets\n",
    "\n",
    "from sklearn.model_selection import ShuffleSplit\n",
    "from sklearn import svm\n",
    "from sklearn.model_selection import cross_val_score\n",
    "from sklearn.model_selection import GridSearchCV\n",
    "\n",
    "%reload_ext version_information\n",
    "np.__version__"
   ]
  },
  {
   "cell_type": "code",
   "execution_count": 2,
   "metadata": {},
   "outputs": [],
   "source": [
    "digits = datasets.load_digits()"
   ]
  },
  {
   "cell_type": "markdown",
   "metadata": {},
   "source": [
    "<h3> 2a) </h3>"
   ]
  },
  {
   "cell_type": "markdown",
   "metadata": {},
   "source": [
    "Bei der Methode der Kreuzvalidierung wird der zufällige Split in Trainings- und Testdatensatz aus Aufgabe 1 mehrere Male wiederholt und der Durchschnitt über mehrere Splits berechnet, um eine genauere Schätzung der wirklichen Treffergenauigkeit zu erhalten. Scikit Learn\n",
    "stellt dafür bereits eine vordefinierte Methode zur Verfügung: <I>sklearn.model_selection.ShuffleSplit()</I>. Die Methode verwendet die Iteratorsyntax von Python, Beispiele zur Verwendung finden Sie in der Dokumentation dieser Methode.\n",
    "<I>ShuffleSplit()</I> erzeugt\n",
    "einen Satz von permutierten Indizes von Trainings- und Testdaten. Erzeugen Sie zunächst 3\n",
    "Sätze und trainieren Sie für jeden Satz eine SVM mit γ = 0.001 und C = 1 und geben Sie\n",
    "jeweils die Treffergenauigkeit für Trainings- und Testdatensatz aus. Die Ergebnisse sollten\n",
    "ähnlich wie in Aufgabe 1b aussehen."
   ]
  },
  {
   "cell_type": "code",
   "execution_count": 3,
   "metadata": {},
   "outputs": [],
   "source": [
    "shuffle = ShuffleSplit(n_splits=3, test_size=0.25)"
   ]
  },
  {
   "cell_type": "code",
   "execution_count": 4,
   "metadata": {},
   "outputs": [
    {
     "name": "stdout",
     "output_type": "stream",
     "text": [
      "TRAINSIZE: (1347,) TESTSIZE: (450,) TRAINSCORE: 0.9985152190051967 TESTSCORE: 0.9955555555555555\n",
      "TRAINSIZE: (1347,) TESTSIZE: (450,) TRAINSCORE: 0.9985152190051967 TESTSCORE: 0.9866666666666667\n",
      "TRAINSIZE: (1347,) TESTSIZE: (450,) TRAINSCORE: 0.9985152190051967 TESTSCORE: 0.9844444444444445\n"
     ]
    }
   ],
   "source": [
    "classificator = svm.SVC(gamma=0.001, C=1.0)\n",
    "for train_index, test_index in shuffle.split(digits.data):\n",
    "    classificator.fit(digits.data[train_index], digits.target[train_index])\n",
    "    \n",
    "    print(\"TRAINSIZE:\", train_index.shape, \"TESTSIZE:\", test_index.shape, \n",
    "          \"TRAINSCORE:\", classificator.score(digits.data[train_index], digits.target[train_index]), \n",
    "          \"TESTSCORE:\", classificator.score(digits.data[test_index], digits.target[test_index]))"
   ]
  },
  {
   "cell_type": "markdown",
   "metadata": {},
   "source": [
    "<h3> 2b) </h3>"
   ]
  },
  {
   "cell_type": "markdown",
   "metadata": {},
   "source": [
    "Statt wie in 2a von Hand vorzugehen gibt es in Scikit Learn die bereits vordefinierte\n",
    "Methode sklearn.model_selection.cross_val_score(). Wiederholen Sie Ihr Experiment\n",
    "aus Aufgabe 2a mit 10 Zufallssplits und geben Sie jeweils die Treffergenauigkeit auf dem\n",
    "Testdatensatz aus. Berechnen Sie die mittlere Treffergenauigkeit (die Kreuzvalidierungsgenauigkeit) und die Standardabweichung des Mittelwerts."
   ]
  },
  {
   "cell_type": "code",
   "execution_count": 5,
   "metadata": {},
   "outputs": [
    {
     "data": {
      "text/plain": [
       "array([0.95135135, 1.        , 0.95027624, 0.99444444, 0.98324022,\n",
       "       0.98882682, 0.99441341, 0.99438202, 0.96610169, 0.96590909])"
      ]
     },
     "execution_count": 5,
     "metadata": {},
     "output_type": "execute_result"
    }
   ],
   "source": [
    "cvs = cross_val_score(classificator, digits.data, digits.target, cv=10)\n",
    "cvs"
   ]
  },
  {
   "cell_type": "code",
   "execution_count": 6,
   "metadata": {},
   "outputs": [
    {
     "name": "stdout",
     "output_type": "stream",
     "text": [
      "mittlere Treffergenauigkeit:         0.9788945294113349 \n",
      "Standardabweichung des Mittelwerts:  0.00031953853382109975\n"
     ]
    }
   ],
   "source": [
    "print('mittlere Treffergenauigkeit:        ', np.mean(cvs),\n",
    "      '\\nStandardabweichung des Mittelwerts: ', np.var(cvs))"
   ]
  },
  {
   "cell_type": "markdown",
   "metadata": {},
   "source": [
    "<h3> 2c) </h3>"
   ]
  },
  {
   "cell_type": "markdown",
   "metadata": {},
   "source": [
    "Mithilfe der Kreuzvalidierungsgenauigkeit können die optimalen γ- und C-Parameter der\n",
    "SVM automatisch gefunden werden. Dieser Vorgang heißt Modellselektion. Man führt zu\n",
    "diesem Zweck eine Gittersuche durch: zunächst wird ein Satz von Werten für γ und C\n",
    "festgelegt. Für alle Wertepaare wird die Kreuzvalidierungsgenauigkeit bestimmt und dann\n",
    "die Parameter gewählt, die die höchste Treffergenauigkeit erzielen."
   ]
  },
  {
   "cell_type": "markdown",
   "metadata": {},
   "source": [
    "Finden Sie auf diese\n",
    "Weise für C = 10 den besten Gammawert aus einem Satz von 10 logarithmisch skalierten\n",
    "Gammawerten, erzeugt mit\n"
   ]
  },
  {
   "cell_type": "code",
   "execution_count": 7,
   "metadata": {},
   "outputs": [],
   "source": [
    "gammas = np.logspace(-7, -1, 10)"
   ]
  },
  {
   "cell_type": "markdown",
   "metadata": {},
   "source": [
    "Verwenden Sie dazu eine Trainings- und Testdatensatzgröße von 500 und 5 Splits (s. Dokumentation von <I>ShuffleSplit</I>) und speichern Sie die Treffergenauigkeit auf dem Trainings- und Testdatensatz für jeden Gammawert und Split. Plotten Sie die Treffergenauigkeitskurve\n",
    "für jeden Split mit dem Gammawert als Abszisse in einem gemeinsamen Diagramm, jeweils\n",
    "für die Trainings- und die Testdaten. Diese Kurven werden Validierungskurven genannt. "
   ]
  },
  {
   "cell_type": "code",
   "execution_count": 8,
   "metadata": {},
   "outputs": [],
   "source": [
    "shuffle = ShuffleSplit(n_splits=5, test_size=500, train_size=500)"
   ]
  },
  {
   "cell_type": "code",
   "execution_count": 9,
   "metadata": {},
   "outputs": [],
   "source": [
    "scores = np.zeros((10, 6, 2))\n",
    "i = 0\n",
    "for gamma in gammas:\n",
    "    classificator = svm.SVC(gamma=gamma, C=10.0)\n",
    "    splitscores = np.zeros((5, 2))\n",
    "    j = 0\n",
    "    for train_index, test_index in shuffle.split(digits.data):\n",
    "        classificator.fit(digits.data[train_index], digits.target[train_index])\n",
    "        trainscore = classificator.score(digits.data[train_index], digits.target[train_index])\n",
    "        testscore = classificator.score(digits.data[test_index], digits.target[test_index])\n",
    "        splitscores[j][0] = trainscore\n",
    "        splitscores[j][1] = testscore\n",
    "        j += 1\n",
    "    scores[i][0] = gamma\n",
    "    scores[i][1:] = splitscores\n",
    "    i += 1"
   ]
  },
  {
   "cell_type": "code",
   "execution_count": 10,
   "metadata": {},
   "outputs": [],
   "source": [
    "#scores"
   ]
  },
  {
   "cell_type": "code",
   "execution_count": 11,
   "metadata": {},
   "outputs": [],
   "source": [
    "#scores[:,0,0]"
   ]
  },
  {
   "cell_type": "code",
   "execution_count": 12,
   "metadata": {},
   "outputs": [],
   "source": [
    "#scores[:,1:,0], scores[:,1:,1]"
   ]
  },
  {
   "cell_type": "code",
   "execution_count": 13,
   "metadata": {},
   "outputs": [
    {
     "data": {
      "text/plain": [
       "[<matplotlib.lines.Line2D at 0x1e322958978>,\n",
       " <matplotlib.lines.Line2D at 0x1e322958ac8>,\n",
       " <matplotlib.lines.Line2D at 0x1e322958c18>,\n",
       " <matplotlib.lines.Line2D at 0x1e322958d68>,\n",
       " <matplotlib.lines.Line2D at 0x1e322958eb8>,\n",
       " <matplotlib.lines.Line2D at 0x1e322a66048>,\n",
       " <matplotlib.lines.Line2D at 0x1e322a66198>,\n",
       " <matplotlib.lines.Line2D at 0x1e322a662e8>,\n",
       " <matplotlib.lines.Line2D at 0x1e322a66438>,\n",
       " <matplotlib.lines.Line2D at 0x1e322a66588>]"
      ]
     },
     "execution_count": 13,
     "metadata": {},
     "output_type": "execute_result"
    },
    {
     "data": {
      "image/png": "[encoded data removed]",
      "text/plain": [
       "<Figure size 432x288 with 1 Axes>"
      ]
     },
     "metadata": {
      "needs_background": "light"
     },
     "output_type": "display_data"
    }
   ],
   "source": [
    "plt.plot(np.log(scores[:,0,0]), scores[:,1:,0], np.log(scores[:,0,0]), scores[:,1:,1])"
   ]
  },
  {
   "cell_type": "markdown",
   "metadata": {},
   "source": [
    "Für welche Gammawerte erhalten Sie Underfitting, für welche Overfitting? Wo\n",
    "liegt der optimale Gammawert?"
   ]
  },
  {
   "cell_type": "markdown",
   "metadata": {},
   "source": [
    "Alle Gammas, bei denen die Erfolgsrate auf dem Trainingssatz 1 ist."
   ]
  },
  {
   "cell_type": "code",
   "execution_count": 14,
   "metadata": {},
   "outputs": [
    {
     "data": {
      "text/plain": [
       "{0.00021544346900318823,\n",
       " 0.001,\n",
       " 0.004641588833612773,\n",
       " 0.021544346900318822,\n",
       " 0.1}"
      ]
     },
     "execution_count": 14,
     "metadata": {},
     "output_type": "execute_result"
    }
   ],
   "source": [
    "set(scores[:,0,0][np.where(scores[:,1:,0] == np.max(scores[:,1:,0]))[0]])"
   ]
  },
  {
   "cell_type": "markdown",
   "metadata": {},
   "source": [
    "Das optimale Gamma, bei dem die Erfolgsrate auf dem Testsatz maximal ist. Alle vorhergehenden ergeben Underfitting, alle folgenden Overfitting."
   ]
  },
  {
   "cell_type": "code",
   "execution_count": 15,
   "metadata": {},
   "outputs": [
    {
     "data": {
      "text/plain": [
       "{0.001}"
      ]
     },
     "execution_count": 15,
     "metadata": {},
     "output_type": "execute_result"
    }
   ],
   "source": [
    "set(scores[:,0,0][np.where(scores[:,1:,1] == np.max(scores[:,1:,1]))[0]])"
   ]
  },
  {
   "cell_type": "markdown",
   "metadata": {},
   "source": [
    "<h3> 2d) </h3>"
   ]
  },
  {
   "cell_type": "markdown",
   "metadata": {},
   "source": [
    "Die Gittersuche lässt sich ebenfalls automatisieren mit <I>sklearn.model_selection.GridSearchCV()</I>. Wir erzeugen dazu ein Gitter aus Wertepaaren für γ und C mit dem\n",
    "Dictionary"
   ]
  },
  {
   "cell_type": "code",
   "execution_count": 16,
   "metadata": {},
   "outputs": [],
   "source": [
    "svc_params = {\n",
    "'C': np.logspace(-1, 2, 4),\n",
    "'gamma': np.logspace(-4, 0, 5),\n",
    "}"
   ]
  },
  {
   "cell_type": "markdown",
   "metadata": {},
   "source": [
    "Dieses Gitter kann direkt an <I>GridSearchCV()</I> als Argument param_grid übergeben werden. Da diese Prozedur sehr zeitaufwendig ist, verkleinern wie den Datensatz auf die ersten 500 Beispiele. Führen Sie für diesen verkleinerten Datensatz eine Gittersuche mithilfe von <I>GridSearchCV()</I> und jeweils 3 Splits (Parameter cv) durch. Den besten Parametersatz erhalten Sie mit <I>GridSearchCV().best_params_</I>, die höchste Treffergenauigkeit\n",
    "mit <I>GridSearchCV().best_score_</I>. Ausführliche Informationen zu jedem Parameterwertepaar stehen in dem Dictionary <I>GridSearchCV().cv_results_</I>. Nach der Gittersuche führt <I>GridSearchCV()</I> noch ein Training auf dem gesamten Datensatz mit den besten Parametern durch, so dass die resultierende Maschine sofort eingesetzt werden kann."
   ]
  },
  {
   "cell_type": "code",
   "execution_count": 17,
   "metadata": {},
   "outputs": [],
   "source": [
    "datas = digits.data[:500]\n",
    "targets = digits.target[:500]"
   ]
  },
  {
   "cell_type": "code",
   "execution_count": 18,
   "metadata": {},
   "outputs": [],
   "source": [
    "estimator = svm.SVC()\n",
    "grid = GridSearchCV(estimator, param_grid=svc_params, cv=3)"
   ]
  },
  {
   "cell_type": "code",
   "execution_count": 19,
   "metadata": {},
   "outputs": [
    {
     "name": "stderr",
     "output_type": "stream",
     "text": [
      "D:\\Programme\\Anaconda3\\lib\\site-packages\\sklearn\\model_selection\\_search.py:813: DeprecationWarning: The default of the `iid` parameter will change from True to False in version 0.22 and will be removed in 0.24. This will change numeric results when test-set sizes are unequal.\n",
      "  DeprecationWarning)\n"
     ]
    },
    {
     "data": {
      "text/plain": [
       "GridSearchCV(cv=3, error_score='raise-deprecating',\n",
       "             estimator=SVC(C=1.0, cache_size=200, class_weight=None, coef0=0.0,\n",
       "                           decision_function_shape='ovr', degree=3,\n",
       "                           gamma='auto_deprecated', kernel='rbf', max_iter=-1,\n",
       "                           probability=False, random_state=None, shrinking=True,\n",
       "                           tol=0.001, verbose=False),\n",
       "             iid='warn', n_jobs=None,\n",
       "             param_grid={'C': array([  0.1,   1. ,  10. , 100. ]),\n",
       "                         'gamma': array([1.e-04, 1.e-03, 1.e-02, 1.e-01, 1.e+00])},\n",
       "             pre_dispatch='2*n_jobs', refit=True, return_train_score=False,\n",
       "             scoring=None, verbose=0)"
      ]
     },
     "execution_count": 19,
     "metadata": {},
     "output_type": "execute_result"
    }
   ],
   "source": [
    "grid.fit(datas, targets)"
   ]
  },
  {
   "cell_type": "code",
   "execution_count": 20,
   "metadata": {},
   "outputs": [
    {
     "name": "stdout",
     "output_type": "stream",
     "text": [
      "{'C': 100.0, 'gamma': 0.0001} \n",
      " 0.928\n"
     ]
    }
   ],
   "source": [
    "print(grid.best_params_,'\\n', grid.best_score_)"
   ]
  },
  {
   "cell_type": "markdown",
   "metadata": {},
   "source": [
    " Testen Sie diese\n",
    "Maschine auf den übriggebliebenen Daten."
   ]
  },
  {
   "cell_type": "code",
   "execution_count": 21,
   "metadata": {},
   "outputs": [
    {
     "data": {
      "text/plain": [
       "0.9414032382420972"
      ]
     },
     "execution_count": 21,
     "metadata": {},
     "output_type": "execute_result"
    }
   ],
   "source": [
    "np.count_nonzero((grid.predict(digits.data[500:]) == digits.target[500:])==True) / len(digits.target[500:])"
   ]
  },
  {
   "cell_type": "code",
   "execution_count": 22,
   "metadata": {},
   "outputs": [
    {
     "data": {
      "application/json": {
       "Software versions": [
        {
         "module": "Python",
         "version": "3.7.3 64bit [MSC v.1915 64 bit (AMD64)]"
        },
        {
         "module": "IPython",
         "version": "7.6.1"
        },
        {
         "module": "OS",
         "version": "Windows 10 10.0.18362 SP0"
        },
        {
         "module": "numpy",
         "version": "1.16.4"
        },
        {
         "module": "sklearn",
         "version": "0.21.2"
        }
       ]
      },
      "text/html": [
       "<table><tr><th>Software</th><th>Version</th></tr><tr><td>Python</td><td>3.7.3 64bit [MSC v.1915 64 bit (AMD64)]</td></tr><tr><td>IPython</td><td>7.6.1</td></tr><tr><td>OS</td><td>Windows 10 10.0.18362 SP0</td></tr><tr><td>numpy</td><td>1.16.4</td></tr><tr><td>sklearn</td><td>0.21.2</td></tr><tr><td colspan='2'>Mon Dec 02 08:13:30 2019 Mitteleuropäische Zeit</td></tr></table>"
      ],
      "text/latex": [
       "\\begin{tabular}{|l|l|}\\hline\n",
       "{\\bf Software} & {\\bf Version} \\\\ \\hline\\hline\n",
       "Python & 3.7.3 64bit [MSC v.1915 64 bit (AMD64)] \\\\ \\hline\n",
       "IPython & 7.6.1 \\\\ \\hline\n",
       "OS & Windows 10 10.0.18362 SP0 \\\\ \\hline\n",
       "numpy & 1.16.4 \\\\ \\hline\n",
       "sklearn & 0.21.2 \\\\ \\hline\n",
       "\\hline \\multicolumn{2}{|l|}{Mon Dec 02 08:13:30 2019 Mitteleuropäische Zeit} \\\\ \\hline\n",
       "\\end{tabular}\n"
      ],
      "text/plain": [
       "Software versions\n",
       "Python 3.7.3 64bit [MSC v.1915 64 bit (AMD64)]\n",
       "IPython 7.6.1\n",
       "OS Windows 10 10.0.18362 SP0\n",
       "numpy 1.16.4\n",
       "sklearn 0.21.2\n",
       "Mon Dec 02 08:13:30 2019 Mitteleuropäische Zeit"
      ]
     },
     "execution_count": 22,
     "metadata": {},
     "output_type": "execute_result"
    }
   ],
   "source": [
    "%version_information numpy, sklearn"
   ]
  }
 ],
 "metadata": {
  "kernelspec": {
   "display_name": "Python 3",
   "language": "python",
   "name": "python3"
  },
  "language_info": {
   "codemirror_mode": {
    "name": "ipython",
    "version": 3
   },
   "file_extension": ".py",
   "mimetype": "text/x-python",
   "name": "python",
   "nbconvert_exporter": "python",
   "pygments_lexer": "ipython3",
   "version": "3.7.3"
  }
 },
 "nbformat": 4,
 "nbformat_minor": 2
}
