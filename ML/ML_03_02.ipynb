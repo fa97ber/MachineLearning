{
 "cells": [
  {
   "cell_type": "code",
   "execution_count": 1,
   "metadata": {},
   "outputs": [
    {
     "data": {
      "text/plain": [
       "('1.16.4', '0.24.2')"
      ]
     },
     "execution_count": 1,
     "metadata": {},
     "output_type": "execute_result"
    }
   ],
   "source": [
    "import pandas as pd\n",
    "import numpy as np\n",
    "import tarfile\n",
    "import re\n",
    "%reload_ext version_information\n",
    "np.__version__, pd.__version__"
   ]
  },
  {
   "cell_type": "markdown",
   "metadata": {},
   "source": [
    "<h3>2a) Einlesen und Entpacken des tar.gz Files mit tarfile</h3>"
   ]
  },
  {
   "cell_type": "code",
   "execution_count": 2,
   "metadata": {},
   "outputs": [],
   "source": [
    "tar = tarfile.open(\"20news-18828.tar.gz\")\n",
    "#tar.extractall() #gefährlich, entpackt direkt alles\n",
    "#tar.close()"
   ]
  },
  {
   "cell_type": "markdown",
   "metadata": {},
   "source": [
    "<h3> 2b) Speichern der Beiträge der Newsgroups <I>alt.atheism, comp.graphics, sci.space </I>\n",
    "    und <I>talk.religion.misc</I> als Strings in ein Array</h3>"
   ]
  },
  {
   "cell_type": "code",
   "execution_count": 3,
   "metadata": {},
   "outputs": [
    {
     "name": "stdout",
     "output_type": "stream",
     "text": [
      "20news-18828 is 0 bytes in size and is a directory.\n",
      "20news-18828/alt.atheism is 0 bytes in size and is a directory.\n",
      "20news-18828/alt.atheism/51203 is 1372 bytes in size and is a regular file.\n",
      "20news-18828/alt.atheism/51277 is 1514 bytes in size and is a regular file.\n",
      "20news-18828/alt.atheism/53192 is 1752 bytes in size and is a regular file.\n",
      "20news-18828/alt.atheism/53222 is 1991 bytes in size and is a regular file.\n",
      "20news-18828/alt.atheism/51283 is 2615 bytes in size and is a regular file.\n",
      "20news-18828/alt.atheism/53759 is 577 bytes in size and is a regular file.\n",
      "20news-18828/alt.atheism/53225 is 753 bytes in size and is a regular file.\n",
      "20news-18828/alt.atheism/53098 is 1200 bytes in size and is a regular file.\n",
      "20news-18828/alt.atheism/51275 is 2386 bytes in size and is a regular file.\n",
      "20news-18828/alt.atheism/53601 is 892 bytes in size and is a regular file.\n",
      "20news-18828/alt.atheism/54173 is 1587 bytes in size and is a regular file.\n",
      "20news-18828/alt.atheism/53334 is 1045 bytes in size and is a regular file.\n",
      "20news-18828/alt.atheism/51158 is 530 bytes in size and is a regular file.\n",
      "20news-18828/alt.atheism/53803 is 1423 bytes in size and is a regular file.\n",
      "20news-18828/alt.atheism/51211 is 10233 bytes in size and is a regular file.\n",
      "20news-18828/alt.atheism/51315 is 1036 bytes in size and is a regular file.\n",
      "20news-18828/alt.atheism/53179 is 1500 bytes in size and is a regular file.\n",
      "20news-18828/alt.atheism/53657 is 1142 bytes in size and is a regular file.\n"
     ]
    }
   ],
   "source": [
    "i = 0\n",
    "for tarinfo in tar:\n",
    "    print(tarinfo.name, \"is\", tarinfo.size, \"bytes in size and is \", end=\"\")\n",
    "    if tarinfo.isreg():\n",
    "        print(\"a regular file.\")\n",
    "    elif tarinfo.isdir():\n",
    "        print(\"a directory.\")\n",
    "    else:\n",
    "        print(\"something else.\")\n",
    "        \n",
    "    i+=1\n",
    "    if i == 20:\n",
    "        break\n"
   ]
  },
  {
   "cell_type": "code",
   "execution_count": 4,
   "metadata": {},
   "outputs": [],
   "source": [
    "i = 0\n",
    "groups = [\"20news-18828/alt.atheism\", \"20news-18828/comp.graphics\", \"20news-18828/sci.space\", \"20news-18828/talk.religion.misc\"]\n",
    "data = []\n",
    "group_vect = []\n",
    "group_cnt = []\n",
    "group = None\n",
    "cnt = 0\n",
    "needed = False\n",
    "for tarinfo in tar:\n",
    "    if tarinfo.isdir() and tarinfo.name in groups:\n",
    "        if needed:\n",
    "            group_cnt.append(cnt)\n",
    "            cnt = 0\n",
    "        needed = True\n",
    "        group = tarinfo.name\n",
    "    elif tarinfo.isreg() and needed:\n",
    "        data.append(open(tarinfo.name).read())\n",
    "        group_vect.append(group)\n",
    "        cnt += 1\n",
    "    elif tarinfo.isdir() and tarinfo.name not in groups:\n",
    "        if needed:\n",
    "            group_cnt.append(cnt)\n",
    "            cnt = 0\n",
    "        needed = False\n",
    "        group = None\n",
    "if needed:\n",
    "    group_cnt.append(cnt)"
   ]
  },
  {
   "cell_type": "markdown",
   "metadata": {},
   "source": [
    "Kontrolle: Es müssten jetzt 3387 Strings\n",
    "im Speicher sein"
   ]
  },
  {
   "cell_type": "code",
   "execution_count": 5,
   "metadata": {},
   "outputs": [
    {
     "data": {
      "text/plain": [
       "((3387,), (3387,))"
      ]
     },
     "execution_count": 5,
     "metadata": {},
     "output_type": "execute_result"
    }
   ],
   "source": [
    "tar.close()\n",
    "np.shape(data), np.shape(group_vect)"
   ]
  },
  {
   "cell_type": "code",
   "execution_count": 54,
   "metadata": {},
   "outputs": [
    {
     "data": {
      "text/plain": [
       "[799, 973, 987, 628]"
      ]
     },
     "execution_count": 54,
     "metadata": {},
     "output_type": "execute_result"
    }
   ],
   "source": [
    "group_cnt"
   ]
  },
  {
   "cell_type": "markdown",
   "metadata": {},
   "source": [
    "Entfernen der ersten zwei Zeilen, also dem Newsgroup-Header, aus den Dateien"
   ]
  },
  {
   "cell_type": "code",
   "execution_count": 7,
   "metadata": {},
   "outputs": [],
   "source": [
    "def strip_header(text):\n",
    "    _before, _blankline, after = text.partition ('\\n\\n')\n",
    "    return after\n"
   ]
  },
  {
   "cell_type": "code",
   "execution_count": 8,
   "metadata": {},
   "outputs": [],
   "source": [
    "data = [strip_header(text) for text in data]"
   ]
  },
  {
   "cell_type": "markdown",
   "metadata": {},
   "source": [
    "<h3>2c) Aufteilen der Strings in Worte(Token) und speichern der verschiedenen Worte über alle Texte</h3>"
   ]
  },
  {
   "cell_type": "markdown",
   "metadata": {},
   "source": [
    "Berechnen eines Merkmalsvektors für jeden Text, der für jedes Wort des Vokabulars seine Häufigkeit innerhalb des Texts\n",
    "enthält."
   ]
  },
  {
   "cell_type": "code",
   "execution_count": 9,
   "metadata": {},
   "outputs": [
    {
     "data": {
      "text/plain": [
       "(3387, 41777)"
      ]
     },
     "execution_count": 9,
     "metadata": {},
     "output_type": "execute_result"
    }
   ],
   "source": [
    "from sklearn.feature_extraction.text import CountVectorizer\n",
    "count_vect = CountVectorizer()\n",
    "merk_vect = count_vect.fit_transform(data).toarray()\n",
    "merk_vect.shape"
   ]
  },
  {
   "cell_type": "markdown",
   "metadata": {},
   "source": [
    "Kontrolle: Es sollten 41777 verschiedene Worte und 3387 Texte vorhanden sein"
   ]
  },
  {
   "cell_type": "code",
   "execution_count": 10,
   "metadata": {},
   "outputs": [
    {
     "data": {
      "text/plain": [
       "198"
      ]
     },
     "execution_count": 10,
     "metadata": {},
     "output_type": "execute_result"
    }
   ],
   "source": [
    "# Anzahl der Worte im ersten Text\n",
    "np.sum(merk_vect[0])"
   ]
  },
  {
   "cell_type": "markdown",
   "metadata": {},
   "source": [
    "<h3>d. Verwenden Sie die ersten 60% der Daten als Trainingsdatensatz, die restlichen als Testdatensatz. Trainieren Sie damit einen multinomialen naiven Bayes-Klassifikator. Bestimmen\n",
    "Sie den Anteil korrekter Klassifikationen auf Ihren Trainings- und Testdaten. Wie gut\n",
    "generalisiert Ihr Klassifikator?</h3>"
   ]
  },
  {
   "cell_type": "code",
   "execution_count": 31,
   "metadata": {},
   "outputs": [],
   "source": [
    "train_ath_cnt = int(np.floor(group_cnt[0] * 0.6))\n",
    "test_ath_cnt = int(np.ceil(group_cnt[0] * 0.4))\n",
    "\n",
    "train_gr_cnt = int(np.floor(group_cnt[1] * 0.6))\n",
    "test_gr_cnt = int(np.ceil(group_cnt[1] * 0.4))\n",
    "\n",
    "train_sp_cnt = int(np.floor(group_cnt[2] * 0.6))\n",
    "test_sp_cnt = int(np.ceil(group_cnt[2] * 0.4))\n",
    "\n",
    "train_rel_cnt = int(np.floor(group_cnt[3] * 0.6))\n",
    "test_rel_cnt = int(np.ceil(group_cnt[3] * 0.4))"
   ]
  },
  {
   "cell_type": "markdown",
   "metadata": {},
   "source": [
    "Aufteilen der Daten in die einzelnen Klassen"
   ]
  },
  {
   "cell_type": "code",
   "execution_count": 75,
   "metadata": {},
   "outputs": [],
   "source": [
    "atheism = merk_vect[0 : group_cnt[0]]\n",
    "\n",
    "graphic = merk_vect[group_cnt[0] : group_cnt[0] + group_cnt[1]]\n",
    "\n",
    "space = merk_vect[group_cnt[0] + group_cnt[1] : group_cnt[0] + group_cnt[1] + group_cnt[2]]\n",
    "\n",
    "religion = merk_vect[group_cnt[0] + group_cnt[1] + group_cnt[2] : np.sum(group_cnt)]"
   ]
  },
  {
   "cell_type": "markdown",
   "metadata": {},
   "source": [
    "Prüfen ob die Zahlen stimmen"
   ]
  },
  {
   "cell_type": "code",
   "execution_count": 56,
   "metadata": {},
   "outputs": [
    {
     "data": {
      "text/plain": [
       "((799, 41777), (973, 41777), (987, 41777), (628, 41777), [799, 973, 987, 628])"
      ]
     },
     "execution_count": 56,
     "metadata": {},
     "output_type": "execute_result"
    }
   ],
   "source": [
    "atheism.shape, graphic.shape, space.shape, religion.shape, group_cnt"
   ]
  },
  {
   "cell_type": "markdown",
   "metadata": {},
   "source": [
    "Prüfen, ob sich atheism und graphic überschneiden"
   ]
  },
  {
   "cell_type": "code",
   "execution_count": 49,
   "metadata": {},
   "outputs": [
    {
     "data": {
      "text/plain": [
       "{False, True}"
      ]
     },
     "execution_count": 49,
     "metadata": {},
     "output_type": "execute_result"
    }
   ],
   "source": [
    "set(atheism[-1] == graphic[0])"
   ]
  },
  {
   "cell_type": "markdown",
   "metadata": {},
   "source": [
    "Splitten der Daten in Trainings- und Testdaten"
   ]
  },
  {
   "cell_type": "code",
   "execution_count": 60,
   "metadata": {},
   "outputs": [],
   "source": [
    "train_atheism = atheism[0 : train_ath_cnt]\n",
    "test_atheism = atheism[train_ath_cnt : train_ath_cnt + test_ath_cnt]\n",
    "\n",
    "train_graphic = graphic[0 : train_gr_cnt]\n",
    "test_graphic = graphic[train_gr_cnt : train_gr_cnt + test_gr_cnt]\n",
    "\n",
    "train_space = space[0 : train_sp_cnt]\n",
    "test_space = space[train_sp_cnt : train_sp_cnt + test_sp_cnt]\n",
    "\n",
    "train_religion = religion[0 : train_rel_cnt]\n",
    "test_religion = religion[train_rel_cnt : train_rel_cnt + test_rel_cnt]"
   ]
  },
  {
   "cell_type": "code",
   "execution_count": 61,
   "metadata": {},
   "outputs": [
    {
     "data": {
      "text/plain": [
       "799"
      ]
     },
     "execution_count": 61,
     "metadata": {},
     "output_type": "execute_result"
    }
   ],
   "source": [
    "train_atheism.shape[0] + test_atheism.shape[0]"
   ]
  },
  {
   "cell_type": "code",
   "execution_count": 63,
   "metadata": {},
   "outputs": [
    {
     "data": {
      "text/plain": [
       "(2030, 1357)"
      ]
     },
     "execution_count": 63,
     "metadata": {},
     "output_type": "execute_result"
    }
   ],
   "source": [
    "train_ath_cnt + train_gr_cnt + train_sp_cnt + train_rel_cnt, test_ath_cnt + test_gr_cnt + test_sp_cnt + test_rel_cnt"
   ]
  },
  {
   "cell_type": "markdown",
   "metadata": {},
   "source": [
    "Für jedes einzigartige Wort wird für jede Klasse die Wahrscheinlichkeit dieses Wortes in dieser Klasse berechnet."
   ]
  },
  {
   "cell_type": "code",
   "execution_count": 76,
   "metadata": {},
   "outputs": [],
   "source": [
    "atheism_prob = train_atheism.sum(axis=0) / train_atheism.sum()\n",
    "graphic_prob = train_graphic.sum(axis=0) / train_graphic.sum()\n",
    "space_prob = train_space.sum(axis=0) / train_space.sum()\n",
    "religion_prob = train_religion.sum(axis=0) / train_religion.sum()"
   ]
  },
  {
   "cell_type": "code",
   "execution_count": 77,
   "metadata": {},
   "outputs": [
    {
     "data": {
      "text/plain": [
       "1.0"
      ]
     },
     "execution_count": 77,
     "metadata": {},
     "output_type": "execute_result"
    }
   ],
   "source": [
    "atheism_prob.sum()"
   ]
  },
  {
   "cell_type": "code",
   "execution_count": null,
   "metadata": {},
   "outputs": [],
   "source": []
  },
  {
   "cell_type": "code",
   "execution_count": null,
   "metadata": {},
   "outputs": [],
   "source": []
  },
  {
   "cell_type": "code",
   "execution_count": null,
   "metadata": {},
   "outputs": [],
   "source": []
  },
  {
   "cell_type": "code",
   "execution_count": null,
   "metadata": {},
   "outputs": [],
   "source": []
  },
  {
   "cell_type": "code",
   "execution_count": 12,
   "metadata": {},
   "outputs": [
    {
     "data": {
      "application/json": {
       "Software versions": [
        {
         "module": "Python",
         "version": "3.7.3 64bit [MSC v.1915 64 bit (AMD64)]"
        },
        {
         "module": "IPython",
         "version": "7.6.1"
        },
        {
         "module": "OS",
         "version": "Windows 10 10.0.18362 SP0"
        },
        {
         "module": "numpy",
         "version": "1.16.4"
        },
        {
         "module": "pandas",
         "version": "0.24.2"
        },
        {
         "module": "sklearn",
         "version": "0.21.2"
        }
       ]
      },
      "text/html": [
       "<table><tr><th>Software</th><th>Version</th></tr><tr><td>Python</td><td>3.7.3 64bit [MSC v.1915 64 bit (AMD64)]</td></tr><tr><td>IPython</td><td>7.6.1</td></tr><tr><td>OS</td><td>Windows 10 10.0.18362 SP0</td></tr><tr><td>numpy</td><td>1.16.4</td></tr><tr><td>pandas</td><td>0.24.2</td></tr><tr><td>sklearn</td><td>0.21.2</td></tr><tr><td colspan='2'>Tue Nov 19 12:09:57 2019 Mitteleuropäische Zeit</td></tr></table>"
      ],
      "text/latex": [
       "\\begin{tabular}{|l|l|}\\hline\n",
       "{\\bf Software} & {\\bf Version} \\\\ \\hline\\hline\n",
       "Python & 3.7.3 64bit [MSC v.1915 64 bit (AMD64)] \\\\ \\hline\n",
       "IPython & 7.6.1 \\\\ \\hline\n",
       "OS & Windows 10 10.0.18362 SP0 \\\\ \\hline\n",
       "numpy & 1.16.4 \\\\ \\hline\n",
       "pandas & 0.24.2 \\\\ \\hline\n",
       "sklearn & 0.21.2 \\\\ \\hline\n",
       "\\hline \\multicolumn{2}{|l|}{Tue Nov 19 12:09:57 2019 Mitteleuropäische Zeit} \\\\ \\hline\n",
       "\\end{tabular}\n"
      ],
      "text/plain": [
       "Software versions\n",
       "Python 3.7.3 64bit [MSC v.1915 64 bit (AMD64)]\n",
       "IPython 7.6.1\n",
       "OS Windows 10 10.0.18362 SP0\n",
       "numpy 1.16.4\n",
       "pandas 0.24.2\n",
       "sklearn 0.21.2\n",
       "Tue Nov 19 12:09:57 2019 Mitteleuropäische Zeit"
      ]
     },
     "execution_count": 12,
     "metadata": {},
     "output_type": "execute_result"
    }
   ],
   "source": [
    "%version_information numpy, pandas, sklearn"
   ]
  }
 ],
 "metadata": {
  "kernelspec": {
   "display_name": "Python 3",
   "language": "python",
   "name": "python3"
  },
  "language_info": {
   "codemirror_mode": {
    "name": "ipython",
    "version": 3
   },
   "file_extension": ".py",
   "mimetype": "text/x-python",
   "name": "python",
   "nbconvert_exporter": "python",
   "pygments_lexer": "ipython3",
   "version": "3.7.3"
  }
 },
 "nbformat": 4,
 "nbformat_minor": 2
}
