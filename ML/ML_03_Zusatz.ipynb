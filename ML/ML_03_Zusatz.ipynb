{
 "cells": [
  {
   "cell_type": "code",
   "execution_count": 1,
   "metadata": {},
   "outputs": [
    {
     "data": {
      "text/plain": [
       "('1.16.4', '0.24.2')"
      ]
     },
     "execution_count": 1,
     "metadata": {},
     "output_type": "execute_result"
    }
   ],
   "source": [
    "import matplotlib.pyplot as plt\n",
    "import numpy as np\n",
    "import pandas as pd\n",
    "%matplotlib inline\n",
    "%reload_ext version_information\n",
    "np.__version__, pd.__version__"
   ]
  },
  {
   "cell_type": "code",
   "execution_count": 2,
   "metadata": {},
   "outputs": [
    {
     "data": {
      "text/html": [
       "<div>\n",
       "<style scoped>\n",
       "    .dataframe tbody tr th:only-of-type {\n",
       "        vertical-align: middle;\n",
       "    }\n",
       "\n",
       "    .dataframe tbody tr th {\n",
       "        vertical-align: top;\n",
       "    }\n",
       "\n",
       "    .dataframe thead th {\n",
       "        text-align: right;\n",
       "    }\n",
       "</style>\n",
       "<table border=\"1\" class=\"dataframe\">\n",
       "  <thead>\n",
       "    <tr style=\"text-align: right;\">\n",
       "      <th></th>\n",
       "      <th>0</th>\n",
       "      <th>1</th>\n",
       "      <th>2</th>\n",
       "      <th>3</th>\n",
       "    </tr>\n",
       "  </thead>\n",
       "  <tbody>\n",
       "    <tr>\n",
       "      <th>0</th>\n",
       "      <td>1.0</td>\n",
       "      <td>0.0</td>\n",
       "      <td>4.0</td>\n",
       "      <td>0.0</td>\n",
       "    </tr>\n",
       "    <tr>\n",
       "      <th>1</th>\n",
       "      <td>1.0</td>\n",
       "      <td>1.0</td>\n",
       "      <td>2.0</td>\n",
       "      <td>0.0</td>\n",
       "    </tr>\n",
       "  </tbody>\n",
       "</table>\n",
       "</div>"
      ],
      "text/plain": [
       "     0    1    2    3\n",
       "0  1.0  0.0  4.0  0.0\n",
       "1  1.0  1.0  2.0  0.0"
      ]
     },
     "execution_count": 2,
     "metadata": {},
     "output_type": "execute_result"
    }
   ],
   "source": [
    "# The Fish Data Set\n",
    "# See example 2 from https://stats.idre.ucla.edu/r/dae/zip/ \n",
    "#\"nofish\",\"livebait\",\"camper\",\"persons\",\"child\",\"xb\",\"zg\",\"count\"\n",
    "import os\n",
    "from urllib.request import urlretrieve\n",
    "if not os.path.isfile('fishing.npz'):\n",
    "    print(\"Downloading\")\n",
    "    urlretrieve('http://www-home.htwg-konstanz.de/~oduerr/data/fishing.npz',filename = 'fishing.npz')\n",
    "d = np.load('fishing.npz')\n",
    "Xt = d['Xt'] #\"livebait\",\"camper\",\"persons\",\"child\"\n",
    "Xte = d['Xte']\n",
    "yt = d['yt']\n",
    "yte = d['yte']\n",
    "pd.DataFrame(Xt[0:2])"
   ]
  },
  {
   "cell_type": "markdown",
   "metadata": {},
   "source": [
    "<h3>a) Do a linear regression by creating a design matrix with the intercept term and use the fomulae given in the lecture to determine the coefficients on the training set.</h3>"
   ]
  },
  {
   "cell_type": "code",
   "execution_count": 3,
   "metadata": {},
   "outputs": [],
   "source": [
    "d = {'livebait': Xt[:,0], 'camper': Xt[:,1], 'persons': Xt[:,2], 'child': Xt[:,3]}\n",
    "df = pd.DataFrame(data=d)\n",
    "df.insert(0, 'Intercept',np.ones((np.shape(df)[0],1)))"
   ]
  },
  {
   "cell_type": "code",
   "execution_count": 4,
   "metadata": {},
   "outputs": [
    {
     "data": {
      "text/html": [
       "<div>\n",
       "<style scoped>\n",
       "    .dataframe tbody tr th:only-of-type {\n",
       "        vertical-align: middle;\n",
       "    }\n",
       "\n",
       "    .dataframe tbody tr th {\n",
       "        vertical-align: top;\n",
       "    }\n",
       "\n",
       "    .dataframe thead th {\n",
       "        text-align: right;\n",
       "    }\n",
       "</style>\n",
       "<table border=\"1\" class=\"dataframe\">\n",
       "  <thead>\n",
       "    <tr style=\"text-align: right;\">\n",
       "      <th></th>\n",
       "      <th>Intercept</th>\n",
       "      <th>livebait</th>\n",
       "      <th>camper</th>\n",
       "      <th>persons</th>\n",
       "      <th>child</th>\n",
       "    </tr>\n",
       "  </thead>\n",
       "  <tbody>\n",
       "    <tr>\n",
       "      <th>0</th>\n",
       "      <td>1.0</td>\n",
       "      <td>1.0</td>\n",
       "      <td>0.0</td>\n",
       "      <td>4.0</td>\n",
       "      <td>0.0</td>\n",
       "    </tr>\n",
       "    <tr>\n",
       "      <th>1</th>\n",
       "      <td>1.0</td>\n",
       "      <td>1.0</td>\n",
       "      <td>1.0</td>\n",
       "      <td>2.0</td>\n",
       "      <td>0.0</td>\n",
       "    </tr>\n",
       "    <tr>\n",
       "      <th>2</th>\n",
       "      <td>1.0</td>\n",
       "      <td>1.0</td>\n",
       "      <td>1.0</td>\n",
       "      <td>3.0</td>\n",
       "      <td>0.0</td>\n",
       "    </tr>\n",
       "    <tr>\n",
       "      <th>3</th>\n",
       "      <td>1.0</td>\n",
       "      <td>1.0</td>\n",
       "      <td>1.0</td>\n",
       "      <td>3.0</td>\n",
       "      <td>2.0</td>\n",
       "    </tr>\n",
       "    <tr>\n",
       "      <th>4</th>\n",
       "      <td>1.0</td>\n",
       "      <td>1.0</td>\n",
       "      <td>1.0</td>\n",
       "      <td>4.0</td>\n",
       "      <td>1.0</td>\n",
       "    </tr>\n",
       "  </tbody>\n",
       "</table>\n",
       "</div>"
      ],
      "text/plain": [
       "   Intercept  livebait  camper  persons  child\n",
       "0        1.0       1.0     0.0      4.0    0.0\n",
       "1        1.0       1.0     1.0      2.0    0.0\n",
       "2        1.0       1.0     1.0      3.0    0.0\n",
       "3        1.0       1.0     1.0      3.0    2.0\n",
       "4        1.0       1.0     1.0      4.0    1.0"
      ]
     },
     "execution_count": 4,
     "metadata": {},
     "output_type": "execute_result"
    }
   ],
   "source": [
    "df.head()"
   ]
  },
  {
   "cell_type": "code",
   "execution_count": 5,
   "metadata": {},
   "outputs": [],
   "source": [
    "# Geht einfacher, ohne den Zwischenschritt über pandas, mit np.concatenate, aber so ist das anschaulicher\n",
    "xt = np.asmatrix(df)"
   ]
  },
  {
   "cell_type": "code",
   "execution_count": 6,
   "metadata": {},
   "outputs": [
    {
     "data": {
      "text/plain": [
       "((200,), (200, 5))"
      ]
     },
     "execution_count": 6,
     "metadata": {},
     "output_type": "execute_result"
    }
   ],
   "source": [
    "N = yt.shape[0]  #200\n",
    "yt.shape, xt.shape"
   ]
  },
  {
   "cell_type": "code",
   "execution_count": 7,
   "metadata": {},
   "outputs": [],
   "source": [
    "w = np.ones((xt.shape[1])) #Setting w = 1"
   ]
  },
  {
   "cell_type": "code",
   "execution_count": null,
   "metadata": {},
   "outputs": [],
   "source": []
  },
  {
   "cell_type": "code",
   "execution_count": 8,
   "metadata": {},
   "outputs": [
    {
     "data": {
      "text/plain": [
       "matrix([[-8.49222821,  2.4822138 ,  2.95430727,  4.64953914, -5.47160051]])"
      ]
     },
     "execution_count": 8,
     "metadata": {},
     "output_type": "execute_result"
    }
   ],
   "source": [
    "XTX = np.matmul(xt.T,xt)\n",
    "XTXI = np.linalg.inv(XTX)\n",
    "XTXIXT = np.matmul(XTXI, xt.T)\n",
    "w = np.matmul(XTXIXT,yt)\n",
    "w"
   ]
  },
  {
   "cell_type": "markdown",
   "metadata": {},
   "source": [
    "<h3>b) Repeat a) but this time with <code>LinearRegression</code> from <code>sklearn.linear_model</code></h3>"
   ]
  },
  {
   "cell_type": "code",
   "execution_count": 9,
   "metadata": {},
   "outputs": [
    {
     "data": {
      "text/plain": [
       "array([-8.49222821,  2.4822138 ,  2.95430727,  4.64953914, -5.47160051])"
      ]
     },
     "execution_count": 9,
     "metadata": {},
     "output_type": "execute_result"
    }
   ],
   "source": [
    "from sklearn.linear_model import LinearRegression\n",
    "model_skl = LinearRegression(fit_intercept=False) #We have an extended X\n",
    "model_skl.fit(xt,yt)\n",
    "model_skl.coef_"
   ]
  },
  {
   "cell_type": "markdown",
   "metadata": {},
   "source": [
    "Result: array([-8.49222821, 2.4822138 , 2.95430727, 4.64953914, -5.47160051]) Don't forget the intercept, you should have 5 numbers!"
   ]
  },
  {
   "cell_type": "code",
   "execution_count": null,
   "metadata": {},
   "outputs": [],
   "source": []
  },
  {
   "cell_type": "code",
   "execution_count": null,
   "metadata": {},
   "outputs": [],
   "source": []
  },
  {
   "cell_type": "markdown",
   "metadata": {},
   "source": [
    "<h3>c) Determine the Root Mean Square Error (RMSE) and the average negative log-likelihood (NLL) on the testset. For NLL we assume that the conditional probability distrubution (CPD) $p(y|x)$ is given by the density of a Gaussian with constant variance $\\sigma^2$. Estimate $\\sigma^2$ using the variance of the residuals. Use the variance estimation with $1/N$.</h3>"
   ]
  },
  {
   "cell_type": "code",
   "execution_count": 10,
   "metadata": {},
   "outputs": [],
   "source": [
    "y = np.matrix(yte).T\n",
    "w = w.T\n",
    "inter = np.ones((np.shape(Xte)[0],1))\n",
    "xte = np.concatenate((inter, Xte), axis = 1)"
   ]
  },
  {
   "cell_type": "code",
   "execution_count": 17,
   "metadata": {},
   "outputs": [],
   "source": [
    "y_pred = np.matmul(xte,w)\n",
    "\n",
    "\n",
    "RMSE = np.sqrt(np.mean(np.power((y_pred - y),2)))"
   ]
  },
  {
   "cell_type": "code",
   "execution_count": 19,
   "metadata": {},
   "outputs": [],
   "source": [
    "resid = y_pred - y\n",
    "sigma = np.power(resid, 2)\n",
    "sigma = np.sum(sigma)\n",
    "sigma = sigma/y_pred.shape[0]\n",
    "#sigma"
   ]
  },
  {
   "cell_type": "code",
   "execution_count": 20,
   "metadata": {},
   "outputs": [],
   "source": [
    "#np.random.normal(np.mean(y_pred), sigma)\n",
    "nll_list = []\n",
    "for i in range(1000):\n",
    "    nll = 0\n",
    "    for yi in y_pred:\n",
    "        nll += np.log(abs(np.random.normal(yi, sigma)))\n",
    "    nll = nll * (1/y_pred.shape[0])\n",
    "    nll_list.append(nll[0][0])\n",
    "#np.mean(nll_list)"
   ]
  },
  {
   "cell_type": "code",
   "execution_count": 21,
   "metadata": {},
   "outputs": [
    {
     "name": "stdout",
     "output_type": "stream",
     "text": [
      "RMSE: 8.588126386734231 sigma:  73.75591483452077 NLL:  3.6675596025876773\n"
     ]
    }
   ],
   "source": [
    "print('RMSE:', RMSE, 'sigma: ', sigma, 'NLL: ', np.mean(nll_list))"
   ]
  },
  {
   "cell_type": "markdown",
   "metadata": {},
   "source": [
    "Result: $ RMSE \\approx 8.58812$, $\\hat \\sigma^2 \\approx 73.7559$, $\\tt{NLL} \\approx 3.569$"
   ]
  },
  {
   "cell_type": "code",
   "execution_count": null,
   "metadata": {},
   "outputs": [],
   "source": []
  },
  {
   "cell_type": "markdown",
   "metadata": {},
   "source": [
    "<h3>d) For the testset: plot the predicted mean number of fish caught ($\\mu$) against observed number of fish caught. Further include the 2.5 and 97.5 precentile of p(y|x), the conditional predictive distribution (CPD) of $y$ for a given $x$. Why is a Gaussian not ideal for that kind of data?</h3>"
   ]
  },
  {
   "cell_type": "code",
   "execution_count": 14,
   "metadata": {},
   "outputs": [
    {
     "data": {
      "text/plain": [
       "(3.584986890619827, 3.06)"
      ]
     },
     "execution_count": 14,
     "metadata": {},
     "output_type": "execute_result"
    },
    {
     "data": {
      "image/png": "[encoded data removed]",
      "text/plain": [
       "<Figure size 432x288 with 1 Axes>"
      ]
     },
     "metadata": {
      "needs_background": "light"
     },
     "output_type": "display_data"
    }
   ],
   "source": [
    "plt.scatter([y_pred[:,0]], [y[:,0]])\n",
    "plt.xlabel('Predicted')\n",
    "plt.ylabel('True')\n"
   ]
  },
  {
   "cell_type": "code",
   "execution_count": 39,
   "metadata": {},
   "outputs": [],
   "source": [
    "perc_low = np.asarray(y_pred - 1.96 * np.sqrt(sigma))\n",
    "perc_top = np.asarray(y_pred + 1.96 * np.sqrt(sigma))"
   ]
  },
  {
   "cell_type": "code",
   "execution_count": 41,
   "metadata": {},
   "outputs": [
    {
     "data": {
      "text/plain": [
       "<matplotlib.legend.Legend at 0x2d9e00c6d68>"
      ]
     },
     "execution_count": 41,
     "metadata": {},
     "output_type": "execute_result"
    },
    {
     "data": {
      "image/png": "[encoded data removed]",
      "text/plain": [
       "<Figure size 432x288 with 1 Axes>"
      ]
     },
     "metadata": {
      "needs_background": "light"
     },
     "output_type": "display_data"
    }
   ],
   "source": [
    "plot = plt.figure()\n",
    "ax = plot.add_subplot(111)\n",
    "ax.scatter([y_pred[:,0]], [y[:,0]], marker=\"o\", label=\"Wahre Werte\")\n",
    "plt.xlabel(\"Fische Vorhersage\")\n",
    "plt.ylabel(\"Fische Real\")\n",
    "ax.scatter([y_pred[:,0]], [y_pred[:,0]], marker=\"o\", label=\"Mittelwert\")\n",
    "ax.scatter([y_pred[:,0]], perc_low, marker=\".\", label=\"2.5% Percentil\")\n",
    "ax.scatter([y_pred[:,0]], perc_top, marker=\".\", label=\"97.5% Percentil\")\n",
    "ax.legend()"
   ]
  },
  {
   "cell_type": "markdown",
   "metadata": {},
   "source": [
    "Hint: For the Gaussian the 2.5% and the 97.5% percentile is approximatiy given by $\\mu \\pm 1.96*\\sigma$"
   ]
  },
  {
   "cell_type": "markdown",
   "metadata": {},
   "source": [
    "<b>Es gibt nur ganze positive Zahlen für die Fische. Deswegen ist Gauss nicht optimal.</b>"
   ]
  },
  {
   "cell_type": "markdown",
   "metadata": {},
   "source": [
    "<h3>e) This data is count data. Count data has only positive values and also the distribution is discrete. You cannot catch 0.5 fish and that the CPD has probability density > 0 on negative number of fish is wrong too. A Gaussian as a CPD is therefore not ideal.\n",
    "\n",
    "Now use a Poissonian as CPD. If we assume a Poissonian then the probability to catch $k$ fish is given by$$\n",
    "  p(k) = \\exp(-\\mu) \\frac{\\mu^k}{k!}\n",
    "$$\n",
    "\n",
    "and the NLL is thus by:\n",
    "\n",
    "$$\n",
    " log(p(k)) = -\\mu  + k \\cdot \\log(\\mu) - log(k!)\n",
    "$$\n",
    "with $\\mu$ being the expectation. In our case the average number of fish expected.\n",
    "\n",
    "In the case of the probabilistic interpretation of the linear regression, $y_i$ for a given $x_i$ is distributed like a Gaussian. The paramter $\\mu_i$ from $N(\\mu_i,\\sigma^2)$ has been determined from $x_i$ via $\\mu_i= \\beta^T \\cdot x_i$ by minimizing the NLL.\n",
    "\n",
    "A small additional detail: For the Poissonian case, $\\mu_i$ needs to be positive. We therefore do not use $\\beta^T \\cdot x_i$ directly but \"pipe it through\" an exponential first to make it positive and thus link $\\mu_i=exp(\\beta^T \\cdot x_i)$ to the data.\n",
    "\n",
    "Use a gradient descent approach on the NLL to find the solution for the parameters. Calculate the RMSE and the NLL on the test set and compare with c).</h3>"
   ]
  },
  {
   "cell_type": "code",
   "execution_count": 63,
   "metadata": {},
   "outputs": [],
   "source": [
    "from scipy.special import factorial\n",
    "from numpy import isinf\n",
    "\n",
    "\n",
    "def gradient(Xd, yt, w):  #Gradientenabstieg\n",
    "    scores = np.exp(Xd @ w)  #If both a and b are 2-D arrays, it is matrix multiplication, but using matmul or a @ b is preferred.\n",
    "    return -Xd.T @ (yt - scores) / 200\n",
    "\n",
    "\n",
    "def log_likelihood(Xd, yt, w):  #Likelyhood\n",
    "\n",
    "    mu = np.exp(Xd @ w)  #Wd Design matrix, w gewichte\n",
    "    ret = np.zeros_like(mu)\n",
    "\n",
    "    for i in range(ret.shape[0]):\n",
    "        ret[i] = mu[i] - yt[i] * np.log(mu[i]) + np.log(\n",
    "            1.0 * np.math.factorial(yt[i]))  #Formel\n",
    "    return np.mean(ret)\n",
    "\n",
    "\n",
    "def logistic_regression(Xd, yt, num_steps, learning_rate):\n",
    "\n",
    "    weights = np.zeros(Xd.shape[1])\n",
    "    weights = np.expand_dims(weights, 1)\n",
    "\n",
    "    for step in range(num_steps):\n",
    "        grad = gradient(Xd, yt, weights)\n",
    "\n",
    "        weights -= learning_rate * grad\n",
    "\n",
    "        # Print log-likelihood every so often\n",
    "        #if step % 500 == 0:\n",
    "            #print('Epoch {}\\t with NLL: '.format(step),\n",
    "                #  log_likelihood(Xd, yt, weights))\n",
    "\n",
    "    return weights"
   ]
  },
  {
   "cell_type": "code",
   "execution_count": 80,
   "metadata": {},
   "outputs": [
    {
     "name": "stdout",
     "output_type": "stream",
     "text": [
      "Log Likelihood für den Test Wert Theta:  1494.3472942607975\n",
      "Gradient für den Test Wert Theta: \t [[1515.96804305 1402.14474131 1170.07247951 5698.03224653 3255.09389229]]\n"
     ]
    }
   ],
   "source": [
    "print('Log Likelihood für den Test Wert Theta: ', log_likelihood(xt, yt, np.array([1, 1, 1, 1, 1])))\n",
    "print('Gradient für den Test Wert Theta: \\t', gradient(xt, yt, np.expand_dims([1, 1, 1, 1, 1], 1)).T[0])"
   ]
  },
  {
   "cell_type": "markdown",
   "metadata": {},
   "source": [
    "Hint: On the trainingset for the parameter values (1,1,1,1,1) the NLL should be approx 1508 and the gradient (1518.61, 1403.99, 1171.02, 5701.91, 3258.7). For the NLL a good learning rate would be 0.001 and training should be done for at least 5000 epochs."
   ]
  },
  {
   "cell_type": "code",
   "execution_count": 99,
   "metadata": {},
   "outputs": [
    {
     "name": "stdout",
     "output_type": "stream",
     "text": [
      "(200, 5) (200, 1)\n"
     ]
    }
   ],
   "source": [
    "lr = 0.001\n",
    "n_iter = 5000\n",
    "ytt = np.matrix(yt).T\n",
    "print(xt.shape, ytt.shape)\n",
    "theta = logistic_regression(xt, ytt, n_iter, lr)\n",
    "#y_pred = np.exp(np.matmul(xte,w))\n",
    "y_pred = np.exp(xte @ theta)"
   ]
  },
  {
   "cell_type": "markdown",
   "metadata": {},
   "source": [
    "<h3>f) Do the same plot as in d) but this time with a Poisson CPD. Hint you can use scipy.stats.poisson to calculate the percentiles.</h3>"
   ]
  },
  {
   "cell_type": "code",
   "execution_count": 53,
   "metadata": {},
   "outputs": [],
   "source": [
    "from scipy.stats import poisson\n",
    "low_percentile = []\n",
    "top_percentile = []\n",
    "for i in range(0, len(xte)):\n",
    "    low_percentile.append(poisson.ppf(0.025, y_pred[i]))\n",
    "    top_percentile.append(poisson.ppf(0.975, y_pred[i]))"
   ]
  },
  {
   "cell_type": "code",
   "execution_count": 100,
   "metadata": {},
   "outputs": [
    {
     "data": {
      "text/plain": [
       "<matplotlib.legend.Legend at 0x2d9dfc99eb8>"
      ]
     },
     "execution_count": 100,
     "metadata": {},
     "output_type": "execute_result"
    },
    {
     "data": {
      "image/png": "[encoded data removed]",
      "text/plain": [
       "<Figure size 432x288 with 1 Axes>"
      ]
     },
     "metadata": {
      "needs_background": "light"
     },
     "output_type": "display_data"
    }
   ],
   "source": [
    "fig = plt.figure()\n",
    "ax1 = fig.add_subplot(111)\n",
    "ax1.scatter([y_pred[:,0]], [y[:,0]], marker=\"s\", label=\"Wahre Werte\")\n",
    "plt.xlabel('Predicted Fishes')\n",
    "plt.ylabel('True Fishes')\n",
    "ax1.scatter([y_pred[:,0]], [y_pred[:,0]], marker=\"o\", label=\"Mittelwert\")\n",
    "ax1.scatter([y_pred[:,0]], low_percentile, marker='.', label=\"2.5% Percentil\")\n",
    "ax1.scatter([y_pred[:,0]], top_percentile, marker='.', label=\"97.5% Percentil\")\n",
    "ax1.legend()"
   ]
  },
  {
   "cell_type": "code",
   "execution_count": 15,
   "metadata": {},
   "outputs": [
    {
     "data": {
      "application/json": {
       "Software versions": [
        {
         "module": "Python",
         "version": "3.7.3 64bit [MSC v.1915 64 bit (AMD64)]"
        },
        {
         "module": "IPython",
         "version": "7.6.1"
        },
        {
         "module": "OS",
         "version": "Windows 10 10.0.18362 SP0"
        },
        {
         "module": "numpy",
         "version": "1.16.4"
        },
        {
         "module": "pandas",
         "version": "0.24.2"
        }
       ]
      },
      "text/html": [
       "<table><tr><th>Software</th><th>Version</th></tr><tr><td>Python</td><td>3.7.3 64bit [MSC v.1915 64 bit (AMD64)]</td></tr><tr><td>IPython</td><td>7.6.1</td></tr><tr><td>OS</td><td>Windows 10 10.0.18362 SP0</td></tr><tr><td>numpy</td><td>1.16.4</td></tr><tr><td>pandas</td><td>0.24.2</td></tr><tr><td colspan='2'>Mon Nov 18 09:14:42 2019 Mitteleuropäische Zeit</td></tr></table>"
      ],
      "text/latex": [
       "\\begin{tabular}{|l|l|}\\hline\n",
       "{\\bf Software} & {\\bf Version} \\\\ \\hline\\hline\n",
       "Python & 3.7.3 64bit [MSC v.1915 64 bit (AMD64)] \\\\ \\hline\n",
       "IPython & 7.6.1 \\\\ \\hline\n",
       "OS & Windows 10 10.0.18362 SP0 \\\\ \\hline\n",
       "numpy & 1.16.4 \\\\ \\hline\n",
       "pandas & 0.24.2 \\\\ \\hline\n",
       "\\hline \\multicolumn{2}{|l|}{Mon Nov 18 09:14:42 2019 Mitteleuropäische Zeit} \\\\ \\hline\n",
       "\\end{tabular}\n"
      ],
      "text/plain": [
       "Software versions\n",
       "Python 3.7.3 64bit [MSC v.1915 64 bit (AMD64)]\n",
       "IPython 7.6.1\n",
       "OS Windows 10 10.0.18362 SP0\n",
       "numpy 1.16.4\n",
       "pandas 0.24.2\n",
       "Mon Nov 18 09:14:42 2019 Mitteleuropäische Zeit"
      ]
     },
     "execution_count": 15,
     "metadata": {},
     "output_type": "execute_result"
    }
   ],
   "source": [
    "%version_information numpy, pandas"
   ]
  }
 ],
 "metadata": {
  "kernelspec": {
   "display_name": "Python 3",
   "language": "python",
   "name": "python3"
  },
  "language_info": {
   "codemirror_mode": {
    "name": "ipython",
    "version": 3
   },
   "file_extension": ".py",
   "mimetype": "text/x-python",
   "name": "python",
   "nbconvert_exporter": "python",
   "pygments_lexer": "ipython3",
   "version": "3.7.3"
  }
 },
 "nbformat": 4,
 "nbformat_minor": 2
}
